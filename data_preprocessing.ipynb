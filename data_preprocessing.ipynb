{
 "cells": [
  {
   "cell_type": "code",
   "execution_count": 2,
   "id": "379df835",
   "metadata": {},
   "outputs": [],
   "source": [
    "import os\n",
    "import argparse"
   ]
  },
  {
   "cell_type": "code",
   "execution_count": 3,
   "id": "355ee287",
   "metadata": {},
   "outputs": [],
   "source": [
    "def process_txt_files(root_dir):\n",
    "    results = []\n",
    "    for root, _, files in os.walk(root_dir):\n",
    "        print(f\"Processing directory: {root}\")\n",
    "        for file in files:\n",
    "            if file.endswith('.txt'):\n",
    "                file_path = os.path.join(root, file)\n",
    "                wav_path = file_path.rsplit('.', 1)[0] + '.wav'\n",
    "                relative_path = os.path.relpath(file_path, root_dir)\n",
    "                parts = relative_path.split(os.sep)\n",
    "                if len(parts) >= 2:\n",
    "                    record_id = \"-\".join(parts[:-1] + [os.path.splitext(parts[-1])[0]])\n",
    "                else:\n",
    "                    record_id = os.path.splitext(relative_path)[0]\n",
    "\n",
    "                with open(file_path, 'r', encoding='utf-8') as f:\n",
    "                    for line in f:\n",
    "                        parts = line.strip().split()\n",
    "                        if len(parts) >= 4:\n",
    "                            start_time = float(parts[0])\n",
    "                            end_time = float(parts[1])\n",
    "                            spkid = parts[2]\n",
    "                            gt_text = ' '.join(parts[3:])\n",
    "                            start_time_rounded = round(start_time, 2)\n",
    "                            end_time_rounded = round(end_time, 2)\n",
    "                            start_time_str = str(int(start_time_rounded * 100)).zfill(6)\n",
    "                            end_time_str = str(int(end_time_rounded * 100)).zfill(6)\n",
    "                            combined_value = f\"{record_id}-{spkid}-{start_time_str}-{end_time_str}\"\n",
    "                            results.append((combined_value, wav_path, start_time_rounded, end_time_rounded, gt_text))\n",
    "    return results\n",
    "\n",
    "\n",
    "def write_to_segments(segments_path, segment):\n",
    "    with open(segments_path, 'w', encoding='utf-8') as f:\n",
    "        for seg_id, wav_path, start, end, gt_text in segment:\n",
    "            f.write(f\"{seg_id} {wav_path} {start} {end} {gt_text}\\n\")"
   ]
  },
  {
   "cell_type": "code",
   "execution_count": null,
   "id": "19deb99d",
   "metadata": {},
   "outputs": [],
   "source": [
    "# data_dir = \"/home/IITB/ai-at-ieor/23m1508/Shivam_23M1508/Interspeech/data/set_1_extracted/MLC-SLM_Workshop-Training_Set_1/data\"\n",
    "# segments_path = \"/home/IITB/ai-at-ieor/23m1508/Shivam_23M1508/Interspeech/data/data_csv/segments_path.txt\"\n",
    "\n",
    "\n",
    "# data_dir = \"/home/IITB/ai-at-ieor/23m1508/Shivam_23M1508/Interspeech/data/set_2_extracted/data/French\"\n",
    "# segments_path = \"/home/IITB/ai-at-ieor/23m1508/Shivam_23M1508/Interspeech/data/data_csv/segments_path_french.txt\"\n",
    "\n",
    "\n",
    "# data_dir = \"/home/IITB/ai-at-ieor/23m1508/Shivam_23M1508/Interspeech/data/set_2_extracted/data/German\"\n",
    "# segments_path = \"/home/IITB/ai-at-ieor/23m1508/Shivam_23M1508/Interspeech/data/data_csv/segments_path_german.txt\"\n",
    "\n",
    "\n",
    "# data_dir = \"/home/IITB/ai-at-ieor/23m1508/Shivam_23M1508/Interspeech/data/set_2_extracted/data/Italian\"\n",
    "# segments_path = \"/home/IITB/ai-at-ieor/23m1508/Shivam_23M1508/Interspeech/data/data_csv/segments_path_italian.txt\"\n",
    "\n",
    "\n",
    "# data_dir = \"/home/IITB/ai-at-ieor/23m1508/Shivam_23M1508/Interspeech/data/set_2_extracted/data/Japanese\"\n",
    "# segments_path = \"/home/IITB/ai-at-ieor/23m1508/Shivam_23M1508/Interspeech/data/data_csv/segments_path_japanese.txt\"\n",
    "\n",
    "\n",
    "# data_dir = \"/home/IITB/ai-at-ieor/23m1508/Shivam_23M1508/Interspeech/data/set_2_extracted/data/Korean\"\n",
    "# segments_path = \"/home/IITB/ai-at-ieor/23m1508/Shivam_23M1508/Interspeech/data/data_csv/segments_path_korean.txt\"\n",
    "\n",
    "\n",
    "# data_dir = \"/home/IITB/ai-at-ieor/23m1508/Shivam_23M1508/Interspeech/data/set_3_extracted/MLC-SLM_Workshop-Training_Set_3/data/Portuguese\"\n",
    "# segments_path = \"/home/IITB/ai-at-ieor/23m1508/Shivam_23M1508/Interspeech/data/data_csv/segments_path_portuguese.txt\"\n",
    "\n",
    "\n",
    "# data_dir = \"/home/IITB/ai-at-ieor/23m1508/Shivam_23M1508/Interspeech/data/set_3_extracted/MLC-SLM_Workshop-Training_Set_3/data/Russian\"\n",
    "# segments_path = \"/home/IITB/ai-at-ieor/23m1508/Shivam_23M1508/Interspeech/data/data_csv/segments_path_russian.txt\"\n",
    "\n",
    "\n",
    "# data_dir = \"/home/IITB/ai-at-ieor/23m1508/Shivam_23M1508/Interspeech/data/set_3_extracted/MLC-SLM_Workshop-Training_Set_3/data/Spanish\"\n",
    "# segments_path = \"/home/IITB/ai-at-ieor/23m1508/Shivam_23M1508/Interspeech/data/data_csv/segments_path_spanish.txt\"\n",
    "\n",
    "\n",
    "# data_dir = \"/home/IITB/ai-at-ieor/23m1508/Shivam_23M1508/Interspeech/data/set_3_extracted/MLC-SLM_Workshop-Training_Set_3/data/Thai\"\n",
    "# segments_path = \"/home/IITB/ai-at-ieor/23m1508/Shivam_23M1508/Interspeech/data/data_csv/segments_path_thai.txt\"\n",
    "\n",
    "\n",
    "# data_dir = \"/home/IITB/ai-at-ieor/23m1508/Shivam_23M1508/Interspeech/data/set_3_extracted/MLC-SLM_Workshop-Training_Set_3/data/Vietnamese\"\n",
    "# segments_path = \"/home/IITB/ai-at-ieor/23m1508/Shivam_23M1508/Interspeech/data/data_csv/segments_path_vietnamese.txt\"\n",
    "\n",
    "# =========================================================================\n"
   ]
  },
  {
   "cell_type": "markdown",
   "id": "cf7d3083",
   "metadata": {},
   "source": [
    "### This is for the development set"
   ]
  },
  {
   "cell_type": "code",
   "execution_count": 15,
   "id": "fa55a57f",
   "metadata": {},
   "outputs": [
    {
     "name": "stdout",
     "output_type": "stream",
     "text": [
      "Processing directory: /scratch/IITB/ai-at-ieor/23m1508/23m1508_backup/audio_development_set/Vietnamese\n"
     ]
    }
   ],
   "source": [
    "data_dir = \"/scratch/IITB/ai-at-ieor/23m1508/23m1508_backup/audio_development_set/Vietnamese\"\n",
    "\n",
    "segments_path = '/scratch/IITB/ai-at-ieor/23m1508/23m1508_backup/data_dev_csv/vietnamese_segments_path.txt'\n",
    "\n",
    "segment = process_txt_files(data_dir)\n",
    "\n",
    "write_to_segments(segments_path, segment)"
   ]
  },
  {
   "cell_type": "markdown",
   "id": "e3d7cf85",
   "metadata": {},
   "source": [
    "This is for Evaluation Set"
   ]
  },
  {
   "cell_type": "markdown",
   "id": "99f5479a",
   "metadata": {},
   "source": [
    "moving to the scratch directory"
   ]
  },
  {
   "cell_type": "code",
   "execution_count": 4,
   "id": "2b6891ff",
   "metadata": {},
   "outputs": [
    {
     "name": "stdout",
     "output_type": "stream",
     "text": [
      "Copied to: /scratch/IITB/ai-at-ieor/23m1508/23m1508_backup/Evaluation_Set_1\n"
     ]
    }
   ],
   "source": [
    "import shutil\n",
    "import os\n",
    "\n",
    "# Source and destination paths\n",
    "src_dir = \"/home/IITB/ai-at-ieor/23m1508/Shivam_23M1508/Interspeech/data/Evaluation_Set_1\"\n",
    "dst_dir = \"/scratch/IITB/ai-at-ieor/23m1508/23m1508_backup/Evaluation_Set_1\"  # Adjust username if needed\n",
    "\n",
    "# Make sure destination parent directory exists\n",
    "os.makedirs(os.path.dirname(dst_dir), exist_ok=True)\n",
    "\n",
    "# Copy the entire folder\n",
    "shutil.copytree(src_dir, dst_dir, dirs_exist_ok=True)  # dirs_exist_ok=True for overwriting existing contents\n",
    "\n",
    "print(f\"Copied to: {dst_dir}\")\n"
   ]
  },
  {
   "cell_type": "code",
   "execution_count": 55,
   "id": "867abb1b",
   "metadata": {},
   "outputs": [],
   "source": [
    "import os\n",
    "import argparse\n",
    "\n",
    "def process_txt_files(root_dir):\n",
    "    results = []\n",
    "    for root, _, files in os.walk(root_dir):\n",
    "        print(f\"Processing directory: {root}\")\n",
    "        for file in files:\n",
    "            if file.endswith('.txt'):\n",
    "                file_path = os.path.join(root, file)\n",
    "                wav_path = file_path.rsplit('.', 1)[0] + '.wav'\n",
    "                relative_path = os.path.relpath(file_path, root_dir)\n",
    "                parts = relative_path.split(os.sep)\n",
    "                if len(parts) >= 2:\n",
    "                    record_id = \"-\".join(parts[:-1] + [os.path.splitext(parts[-1])[0]])\n",
    "                else:\n",
    "                    record_id = os.path.splitext(relative_path)[0]\n",
    "\n",
    "                with open(file_path, 'r', encoding='utf-8') as f:\n",
    "                    for line in f:\n",
    "                        parts = line.strip().split()\n",
    "                        if len(parts) == 3:\n",
    "                            start_time = float(parts[0])\n",
    "                            end_time = float(parts[1])\n",
    "                            spkid = parts[2]\n",
    "                            gt_text = \"This is a test text\"  # Placeholder for actual text\n",
    "                            start_time_rounded = round(start_time, 2)\n",
    "                            end_time_rounded = round(end_time, 2)\n",
    "                            start_time_str = str(int(start_time_rounded * 100)).zfill(6)\n",
    "                            end_time_str = str(int(end_time_rounded * 100)).zfill(6)\n",
    "                            combined_value = f\"{record_id}-{spkid}-{start_time_str}-{end_time_str}\"\n",
    "                            results.append((combined_value, wav_path, start_time_rounded, end_time_rounded, gt_text))\n",
    "                            \n",
    "    return results\n",
    "\n",
    "def write_to_segments(segments_path, segment):\n",
    "    with open(segments_path, 'w', encoding='utf-8') as f:\n",
    "        for seg_id, wav_path, start, end, gt_text in segment:\n",
    "            f.write(f\"{seg_id} {wav_path} {start} {end} {gt_text}\\n\")"
   ]
  },
  {
   "cell_type": "code",
   "execution_count": 61,
   "id": "cd7bf75c",
   "metadata": {},
   "outputs": [
    {
     "name": "stdout",
     "output_type": "stream",
     "text": [
      "Processing directory: /scratch/IITB/ai-at-ieor/23m1508/23m1508_backup/Evaluation_Set_1/MLC-SLM_Workshop-Evaluation_Set_1\n",
      "Processing directory: /scratch/IITB/ai-at-ieor/23m1508/23m1508_backup/Evaluation_Set_1/MLC-SLM_Workshop-Evaluation_Set_1/French\n",
      "Processing directory: /scratch/IITB/ai-at-ieor/23m1508/23m1508_backup/Evaluation_Set_1/MLC-SLM_Workshop-Evaluation_Set_1/Korean\n",
      "Processing directory: /scratch/IITB/ai-at-ieor/23m1508/23m1508_backup/Evaluation_Set_1/MLC-SLM_Workshop-Evaluation_Set_1/Russian\n",
      "Processing directory: /scratch/IITB/ai-at-ieor/23m1508/23m1508_backup/Evaluation_Set_1/MLC-SLM_Workshop-Evaluation_Set_1/Italian\n",
      "Processing directory: /scratch/IITB/ai-at-ieor/23m1508/23m1508_backup/Evaluation_Set_1/MLC-SLM_Workshop-Evaluation_Set_1/English\n",
      "Processing directory: /scratch/IITB/ai-at-ieor/23m1508/23m1508_backup/Evaluation_Set_1/MLC-SLM_Workshop-Evaluation_Set_1/English/Indian\n",
      "Processing directory: /scratch/IITB/ai-at-ieor/23m1508/23m1508_backup/Evaluation_Set_1/MLC-SLM_Workshop-Evaluation_Set_1/English/Australian\n",
      "Processing directory: /scratch/IITB/ai-at-ieor/23m1508/23m1508_backup/Evaluation_Set_1/MLC-SLM_Workshop-Evaluation_Set_1/English/American\n",
      "Processing directory: /scratch/IITB/ai-at-ieor/23m1508/23m1508_backup/Evaluation_Set_1/MLC-SLM_Workshop-Evaluation_Set_1/English/Filipino\n",
      "Processing directory: /scratch/IITB/ai-at-ieor/23m1508/23m1508_backup/Evaluation_Set_1/MLC-SLM_Workshop-Evaluation_Set_1/English/British\n",
      "Processing directory: /scratch/IITB/ai-at-ieor/23m1508/23m1508_backup/Evaluation_Set_1/MLC-SLM_Workshop-Evaluation_Set_1/Portuguese\n",
      "Processing directory: /scratch/IITB/ai-at-ieor/23m1508/23m1508_backup/Evaluation_Set_1/MLC-SLM_Workshop-Evaluation_Set_1/Vietnamese\n",
      "Processing directory: /scratch/IITB/ai-at-ieor/23m1508/23m1508_backup/Evaluation_Set_1/MLC-SLM_Workshop-Evaluation_Set_1/German\n",
      "Processing directory: /scratch/IITB/ai-at-ieor/23m1508/23m1508_backup/Evaluation_Set_1/MLC-SLM_Workshop-Evaluation_Set_1/Spanish\n",
      "Processing directory: /scratch/IITB/ai-at-ieor/23m1508/23m1508_backup/Evaluation_Set_1/MLC-SLM_Workshop-Evaluation_Set_1/Japanese\n",
      "Processing directory: /scratch/IITB/ai-at-ieor/23m1508/23m1508_backup/Evaluation_Set_1/MLC-SLM_Workshop-Evaluation_Set_1/Thai\n"
     ]
    }
   ],
   "source": [
    "data_dir = \"/scratch/IITB/ai-at-ieor/23m1508/23m1508_backup/Evaluation_Set_1/MLC-SLM_Workshop-Evaluation_Set_1\"\n",
    "\n",
    "segments_path = \"/scratch/IITB/ai-at-ieor/23m1508/23m1508_backup/Evaluation_Set_1/evaluation_paths.txt\"\n",
    "\n",
    "segment = process_txt_files(data_dir)"
   ]
  },
  {
   "cell_type": "code",
   "execution_count": 62,
   "id": "4ce27578",
   "metadata": {},
   "outputs": [
    {
     "data": {
      "text/plain": [
       "29299"
      ]
     },
     "execution_count": 62,
     "metadata": {},
     "output_type": "execute_result"
    }
   ],
   "source": [
    "len(segment)"
   ]
  },
  {
   "cell_type": "code",
   "execution_count": 63,
   "id": "1064a3dd",
   "metadata": {},
   "outputs": [],
   "source": [
    "write_to_segments(segments_path, segment)"
   ]
  },
  {
   "cell_type": "markdown",
   "id": "b7b787d5",
   "metadata": {},
   "source": [
    "### Spliting the audio files and then save them in particular folder"
   ]
  },
  {
   "cell_type": "code",
   "execution_count": 1,
   "id": "d8dd53f5",
   "metadata": {},
   "outputs": [],
   "source": [
    "import soundfile as sf\n",
    "import os\n",
    "from tqdm import tqdm\n",
    "import argparse"
   ]
  },
  {
   "cell_type": "code",
   "execution_count": 2,
   "id": "98a37426",
   "metadata": {},
   "outputs": [],
   "source": [
    "def split_audio(segments_file, output_dir):\n",
    "    if not os.path.exists(output_dir):\n",
    "        os.makedirs(output_dir)\n",
    "\n",
    "    with open(segments_file, 'r', encoding='utf-8') as f:\n",
    "        lines = f.readlines()\n",
    "\n",
    "    wav_scp_path = os.path.join(output_dir, 'wav.scp')\n",
    "    text_path = os.path.join(output_dir, 'text')\n",
    "    \n",
    "    with open(wav_scp_path, 'w', encoding='utf-8') as wav_scp_file, open(text_path, 'w', encoding='utf-8') as text_file:\n",
    "        for line in tqdm(lines, desc=\"Processing\", unit=\"wavs\"):\n",
    "            parts = line.strip().split()\n",
    "            record_id = parts[0]\n",
    "            wav_path = parts[1]\n",
    "            start_time = float(parts[2])\n",
    "            end_time = float(parts[3])\n",
    "            gt_text = ' '.join(parts[4:])\n",
    "\n",
    "            try:\n",
    "                audio_data, sample_rate = sf.read(wav_path)\n",
    "                start_sample = int(start_time * sample_rate)\n",
    "                end_sample = int(end_time * sample_rate)\n",
    "                segment = audio_data[start_sample:end_sample]\n",
    "                output_path = os.path.join(output_dir, f\"{record_id}.wav\")\n",
    "                sf.write(output_path, segment, sample_rate)\n",
    "                # print(f\"Saving {record_id}.wav\")\n",
    "                wav_scp_file.write(f\"{record_id} {output_path}\\n\")\n",
    "                text_file.write(f\"{record_id} {gt_text}\\n\")\n",
    "            except Exception as e:\n",
    "                print(f\"Error in saving {record_id}: {e}\")"
   ]
  },
  {
   "cell_type": "code",
   "execution_count": 9,
   "id": "782bd636",
   "metadata": {},
   "outputs": [],
   "source": [
    "# segments_path = \"/home/IITB/ai-at-ieor/23m1508/Shivam_23M1508/Interspeech/data/data_csv/segments_path.txt\"\n",
    "# output_dir = \"/home/IITB/ai-at-ieor/23m1508/Shivam_23M1508/Interspeech/data/only_audio_set1\"\n",
    "# split_audio(segments_path, output_dir)"
   ]
  },
  {
   "cell_type": "code",
   "execution_count": 3,
   "id": "9a60c3d2",
   "metadata": {},
   "outputs": [
    {
     "name": "stderr",
     "output_type": "stream",
     "text": [
      "Processing: 100%|██████████| 9540/9540 [14:50<00:00, 10.72wavs/s]\n"
     ]
    }
   ],
   "source": [
    "segments_path = \"/scratch/IITB/ai-at-ieor/23m1508/23m1508_backup/data_dev_csv/english_segments_path.txt\"\n",
    "output_dir = \"/scratch/IITB/ai-at-ieor/23m1508/23m1508_backup/audio_development_set/English_split\"\n",
    "\n",
    "split_audio(segments_path, output_dir)"
   ]
  },
  {
   "cell_type": "code",
   "execution_count": 5,
   "id": "41c66f52",
   "metadata": {},
   "outputs": [
    {
     "name": "stderr",
     "output_type": "stream",
     "text": [
      "Processing: 100%|██████████| 2008/2008 [03:09<00:00, 10.57wavs/s]\n"
     ]
    }
   ],
   "source": [
    "segments_path = \"/scratch/IITB/ai-at-ieor/23m1508/23m1508_backup/data_dev_csv/german_segments_path.txt\"\n",
    "output_dir = \"/scratch/IITB/ai-at-ieor/23m1508/23m1508_backup/audio_development_set/German_split\"\n",
    "\n",
    "split_audio(segments_path, output_dir)"
   ]
  },
  {
   "cell_type": "code",
   "execution_count": 6,
   "id": "c03b7e3f",
   "metadata": {},
   "outputs": [
    {
     "name": "stderr",
     "output_type": "stream",
     "text": [
      "Processing: 100%|██████████| 1853/1853 [03:06<00:00,  9.91wavs/s]\n"
     ]
    }
   ],
   "source": [
    "segments_path = \"/scratch/IITB/ai-at-ieor/23m1508/23m1508_backup/data_dev_csv/italian_segments_path.txt\"\n",
    "\n",
    "output_dir = \"/scratch/IITB/ai-at-ieor/23m1508/23m1508_backup/audio_development_set/Italian_split\"\n",
    "\n",
    "split_audio(segments_path, output_dir)"
   ]
  },
  {
   "cell_type": "code",
   "execution_count": 7,
   "id": "96f3ea5c",
   "metadata": {},
   "outputs": [
    {
     "name": "stderr",
     "output_type": "stream",
     "text": [
      "Processing: 100%|██████████| 2816/2816 [03:05<00:00, 15.20wavs/s]\n"
     ]
    }
   ],
   "source": [
    "segments_path = \"/scratch/IITB/ai-at-ieor/23m1508/23m1508_backup/data_dev_csv/japanese_segments_path.txt\"\n",
    "\n",
    "output_dir = \"/scratch/IITB/ai-at-ieor/23m1508/23m1508_backup/audio_development_set/Japanese_split\"\n",
    "\n",
    "split_audio(segments_path, output_dir)"
   ]
  },
  {
   "cell_type": "code",
   "execution_count": 8,
   "metadata": {},
   "outputs": [
    {
     "name": "stderr",
     "output_type": "stream",
     "text": [
      "Processing: 100%|██████████| 2340/2340 [03:10<00:00, 12.26wavs/s]\n"
     ]
    }
   ],
   "source": [
    "segments_path = \"/scratch/IITB/ai-at-ieor/23m1508/23m1508_backup/data_dev_csv/korean_segments_path.txt\"\n",
    "\n",
    "output_dir = \"/scratch/IITB/ai-at-ieor/23m1508/23m1508_backup/audio_development_set/Korean_split\"\n",
    "\n",
    "split_audio(segments_path, output_dir)"
   ]
  },
  {
   "cell_type": "code",
   "execution_count": 9,
   "metadata": {},
   "outputs": [
    {
     "name": "stderr",
     "output_type": "stream",
     "text": [
      "Processing: 100%|██████████| 1824/1824 [01:58<00:00, 15.44wavs/s]\n"
     ]
    }
   ],
   "source": [
    "segments_path = \"/scratch/IITB/ai-at-ieor/23m1508/23m1508_backup/data_dev_csv/portuguese_segments_path.txt\"\n",
    "\n",
    "output_dir = \"/scratch/IITB/ai-at-ieor/23m1508/23m1508_backup/audio_development_set/Portuguese_split\"\n",
    "\n",
    "split_audio(segments_path, output_dir)"
   ]
  },
  {
   "cell_type": "code",
   "execution_count": 10,
   "id": "f3b401c7",
   "metadata": {},
   "outputs": [
    {
     "name": "stderr",
     "output_type": "stream",
     "text": [
      "Processing: 100%|██████████| 1687/1687 [03:12<00:00,  8.74wavs/s]\n"
     ]
    }
   ],
   "source": [
    "segments_path = \"/scratch/IITB/ai-at-ieor/23m1508/23m1508_backup/data_dev_csv/russian_segments_path.txt\"\n",
    "\n",
    "output_dir = \"/scratch/IITB/ai-at-ieor/23m1508/23m1508_backup/audio_development_set/Russian_split\"\n",
    "\n",
    "split_audio(segments_path, output_dir)"
   ]
  },
  {
   "cell_type": "code",
   "execution_count": 11,
   "id": "aab89ee8",
   "metadata": {},
   "outputs": [
    {
     "name": "stderr",
     "output_type": "stream",
     "text": [
      "Processing: 100%|██████████| 1716/1716 [03:44<00:00,  7.65wavs/s]\n"
     ]
    }
   ],
   "source": [
    "segments_path = \"/scratch/IITB/ai-at-ieor/23m1508/23m1508_backup/data_dev_csv/spanish_segments_path.txt\"\n",
    "\n",
    "output_dir = \"/scratch/IITB/ai-at-ieor/23m1508/23m1508_backup/audio_development_set/Spanish_split\"\n",
    "\n",
    "split_audio(segments_path, output_dir)"
   ]
  },
  {
   "cell_type": "code",
   "execution_count": 12,
   "id": "d39d56b4",
   "metadata": {},
   "outputs": [
    {
     "name": "stderr",
     "output_type": "stream",
     "text": [
      "Processing: 100%|██████████| 2095/2095 [04:06<00:00,  8.48wavs/s]\n"
     ]
    }
   ],
   "source": [
    "segments_path = \"/scratch/IITB/ai-at-ieor/23m1508/23m1508_backup/data_dev_csv/thai_segments_path.txt\"\n",
    "\n",
    "output_dir = \"/scratch/IITB/ai-at-ieor/23m1508/23m1508_backup/audio_development_set/Thai_split\"\n",
    "\n",
    "split_audio(segments_path, output_dir)"
   ]
  },
  {
   "cell_type": "code",
   "execution_count": 13,
   "id": "02c15688",
   "metadata": {},
   "outputs": [
    {
     "name": "stderr",
     "output_type": "stream",
     "text": [
      "Processing: 100%|██████████| 1977/1977 [02:39<00:00, 12.42wavs/s]\n"
     ]
    }
   ],
   "source": [
    "segments_path = \"/scratch/IITB/ai-at-ieor/23m1508/23m1508_backup/data_dev_csv/vietnamese_segments_path.txt\"\n",
    "\n",
    "output_dir = \"/scratch/IITB/ai-at-ieor/23m1508/23m1508_backup/audio_development_set/Vietnamese_split\"\n",
    "\n",
    "split_audio(segments_path, output_dir)"
   ]
  },
  {
   "cell_type": "code",
   "execution_count": null,
   "id": "9d4b1fbf",
   "metadata": {},
   "outputs": [],
   "source": []
  },
  {
   "cell_type": "code",
   "execution_count": 3,
   "id": "dcf24f39",
   "metadata": {},
   "outputs": [
    {
     "data": {
      "text/plain": [
       "29301"
      ]
     },
     "execution_count": 3,
     "metadata": {},
     "output_type": "execute_result"
    }
   ],
   "source": [
    "import os\n",
    "len(os.listdir(\"/scratch/IITB/ai-at-ieor/23m1508/23m1508_backup/Evaluation_Set_1/All_Evaluation_audio\"))"
   ]
  },
  {
   "cell_type": "code",
   "execution_count": 10,
   "id": "1bc98098",
   "metadata": {},
   "outputs": [],
   "source": [
    "# import os\n",
    "\n",
    "# folder_path = \"/home/IITB/ai-at-ieor/23m1508/Shivam_23M1508/Interspeech/data/only_audio_set1\"\n",
    "# all_files = os.listdir(folder_path)\n",
    "# print(\"Total files:\", len(all_files))\n"
   ]
  },
  {
   "cell_type": "code",
   "execution_count": 54,
   "id": "74f94d51",
   "metadata": {},
   "outputs": [],
   "source": [
    "import os\n",
    "from multiprocessing import Pool, cpu_count\n",
    "\n",
    "\n",
    "# segments_path = \"/home/IITB/ai-at-ieor/23m1508/Shivam_23M1508/Interspeech/data/data_csv/segments_path.txt\"\n",
    "# base_output_dir = \"/home/IITB/ai-at-ieor/23m1508/Shivam_23M1508/Interspeech/data/audio_set_1_chunks\"\n",
    "# temp_dir = \"/home/IITB/ai-at-ieor/23m1508/Shivam_23M1508/Interspeech/data/temp\"\n",
    "\n",
    "\n",
    "\n",
    "# segments_path = \"/home/IITB/ai-at-ieor/23m1508/Shivam_23M1508/Interspeech/data/data_csv/segments_path_french.txt\"\n",
    "# base_output_dir = \"/home/IITB/ai-at-ieor/23m1508/Shivam_23M1508/Interspeech/data/audio_set_2_chunks/french\"\n",
    "# temp_dir = \"/home/IITB/ai-at-ieor/23m1508/Shivam_23M1508/Interspeech/data/temp\"\n",
    "\n",
    "\n",
    "\n",
    "\n",
    "# segments_path = \"/home/IITB/ai-at-ieor/23m1508/Shivam_23M1508/Interspeech/data/data_csv/segments_path_german.txt\"\n",
    "# base_output_dir = \"/home/IITB/ai-at-ieor/23m1508/Shivam_23M1508/Interspeech/data/audio_set_2_chunks/german\"\n",
    "# temp_dir = \"/home/IITB/ai-at-ieor/23m1508/Shivam_23M1508/Interspeech/data/temp\"\n",
    "\n",
    "\n",
    "\n",
    "# segments_path = \"/home/IITB/ai-at-ieor/23m1508/Shivam_23M1508/Interspeech/data/data_csv/segments_path_russian.txt\"\n",
    "# base_output_dir = \"/home/IITB/ai-at-ieor/23m1508/Shivam_23M1508/Interspeech/data/audio_set_2_chunks/russian\"\n",
    "# temp_dir = \"/home/IITB/ai-at-ieor/23m1508/Shivam_23M1508/Interspeech/data/temp/russian\"\n",
    "\n",
    "\n",
    "\n",
    "segments_path = \"/home/IITB/ai-at-ieor/23m1508/Shivam_23M1508/Interspeech/data/data_dev_csv/vietnamese_segments_path.txt\"\n",
    "base_output_dir = \"/home/IITB/ai-at-ieor/23m1508/Shivam_23M1508/Interspeech/data/audio_dev_set_chunks/vietnamese\"\n",
    "temp_dir = \"/home/IITB/ai-at-ieor/23m1508/Shivam_23M1508/Interspeech/data/temp/vietnamese\"\n",
    "\n",
    "\n",
    "# Ensure temp directory exists\n",
    "os.makedirs(temp_dir, exist_ok=True)\n",
    "\n",
    "chunk_size = 50000\n",
    "\n",
    "# Read lines\n",
    "with open(segments_path, 'r') as file:\n",
    "    lines = file.readlines()\n",
    "\n",
    "total_chunks = len(lines) // chunk_size + (1 if len(lines) % chunk_size != 0 else 0)\n",
    "\n",
    "# Prepare job arguments\n",
    "jobs = []\n",
    "\n",
    "for i in range(total_chunks):\n",
    "    start = i * chunk_size\n",
    "    end = start + chunk_size\n",
    "    chunk_lines = lines[start:end]\n",
    "\n",
    "    temp_path = os.path.join(temp_dir, f\"chunk_{i+1}.txt\")\n",
    "    with open(temp_path, 'w') as f:\n",
    "        f.writelines(chunk_lines)\n",
    "\n",
    "    output_dir = os.path.join(base_output_dir, f\"chunk_{i+1}\")\n",
    "    os.makedirs(output_dir, exist_ok=True)\n",
    "    jobs.append((temp_path, output_dir))\n",
    "\n",
    "# Function wrapper for multiprocessing\n",
    "def run_split_audio(args):\n",
    "    segment_path, out_dir = args\n",
    "    split_audio(segment_path, out_dir)"
   ]
  },
  {
   "cell_type": "code",
   "execution_count": 55,
   "id": "a35a3203",
   "metadata": {},
   "outputs": [
    {
     "data": {
      "text/plain": [
       "[('/home/IITB/ai-at-ieor/23m1508/Shivam_23M1508/Interspeech/data/temp/vietnamese/chunk_1.txt',\n",
       "  '/home/IITB/ai-at-ieor/23m1508/Shivam_23M1508/Interspeech/data/audio_dev_set_chunks/vietnamese/chunk_1')]"
      ]
     },
     "execution_count": 55,
     "metadata": {},
     "output_type": "execute_result"
    }
   ],
   "source": [
    "jobs"
   ]
  },
  {
   "cell_type": "code",
   "execution_count": 56,
   "id": "026d473e",
   "metadata": {},
   "outputs": [
    {
     "name": "stderr",
     "output_type": "stream",
     "text": [
      "Processing: 100%|██████████| 1977/1977 [02:39<00:00, 12.41wavs/s]\n"
     ]
    }
   ],
   "source": [
    "with Pool(cpu_count()) as pool:\n",
    "    pool.map(run_split_audio, jobs)"
   ]
  },
  {
   "cell_type": "code",
   "execution_count": null,
   "id": "809203dc",
   "metadata": {},
   "outputs": [],
   "source": []
  },
  {
   "cell_type": "code",
   "execution_count": null,
   "id": "5b5beac7",
   "metadata": {},
   "outputs": [],
   "source": []
  },
  {
   "cell_type": "code",
   "execution_count": 6,
   "id": "9b88efcf",
   "metadata": {},
   "outputs": [],
   "source": [
    "# wav_scp_path = \"/home/IITB/ai-at-ieor/23m1508/Shivam_23M1508/Interspeech/data/audio_set_1_chunks/chunk_1/wav.scp\"\n",
    "\n",
    "# with open(wav_scp_path, 'r', encoding='utf-8') as f:\n",
    "#     lines = f.readlines()\n",
    "    \n",
    "    \n",
    "#     for line in lines:\n",
    "#         print(line)\n",
    "#         break"
   ]
  },
  {
   "cell_type": "code",
   "execution_count": null,
   "id": "6ed8f6d9",
   "metadata": {},
   "outputs": [],
   "source": []
  },
  {
   "cell_type": "code",
   "execution_count": 102,
   "id": "fba24e34",
   "metadata": {},
   "outputs": [
    {
     "data": {
      "text/plain": [
       "104886"
      ]
     },
     "execution_count": 102,
     "metadata": {},
     "output_type": "execute_result"
    }
   ],
   "source": [
    "import os\n",
    "\n",
    "folder_path_1 = \"/home/IITB/ai-at-ieor/23m1508/Shivam_23M1508/Interspeech/data/audio_set_2_chunks/italian/chunk_1\"\n",
    "\n",
    "folder_path_2 = \"/home/IITB/ai-at-ieor/23m1508/Shivam_23M1508/Interspeech/data/audio_set_2_chunks/italian/chunk_2\"\n",
    "\n",
    "folder_path_3 = \"/home/IITB/ai-at-ieor/23m1508/Shivam_23M1508/Interspeech/data/audio_set_2_chunks/italian/chunk_3\"\n",
    "\n",
    "len(os.listdir(folder_path_1)) + len(os.listdir(folder_path_2)) + len(os.listdir(folder_path_3))"
   ]
  },
  {
   "cell_type": "code",
   "execution_count": 2,
   "id": "53c9115f",
   "metadata": {},
   "outputs": [
    {
     "data": {
      "text/plain": [
       "97593"
      ]
     },
     "execution_count": 2,
     "metadata": {},
     "output_type": "execute_result"
    }
   ],
   "source": [
    "import os\n",
    "\n",
    "folder_path_1 = \"/home/IITB/ai-at-ieor/23m1508/Shivam_23M1508/Interspeech/data/audio_set_2_chunks/russian/chunk_1\"\n",
    "\n",
    "folder_path_2 = \"/home/IITB/ai-at-ieor/23m1508/Shivam_23M1508/Interspeech/data/audio_set_2_chunks/russian/chunk_2\"\n",
    "\n",
    "len(os.listdir(folder_path_1)) + len(os.listdir(folder_path_2))"
   ]
  },
  {
   "cell_type": "code",
   "execution_count": null,
   "id": "a48f9f66",
   "metadata": {},
   "outputs": [],
   "source": []
  },
  {
   "cell_type": "code",
   "execution_count": null,
   "id": "de46c398",
   "metadata": {},
   "outputs": [],
   "source": []
  },
  {
   "cell_type": "code",
   "execution_count": null,
   "id": "86e132d0",
   "metadata": {},
   "outputs": [],
   "source": []
  }
 ],
 "metadata": {
  "kernelspec": {
   "display_name": "shivam_env",
   "language": "python",
   "name": "python3"
  },
  "language_info": {
   "codemirror_mode": {
    "name": "ipython",
    "version": 3
   },
   "file_extension": ".py",
   "mimetype": "text/x-python",
   "name": "python",
   "nbconvert_exporter": "python",
   "pygments_lexer": "ipython3",
   "version": "3.13.2"
  }
 },
 "nbformat": 4,
 "nbformat_minor": 5
}
