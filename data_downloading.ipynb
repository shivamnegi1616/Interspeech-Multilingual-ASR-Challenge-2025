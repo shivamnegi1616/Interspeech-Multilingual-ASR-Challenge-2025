{
 "cells": [
  {
   "cell_type": "code",
   "execution_count": 1,
   "id": "9bcda74a",
   "metadata": {},
   "outputs": [],
   "source": [
    "import zipfile\n",
    "import os"
   ]
  },
  {
   "cell_type": "code",
   "execution_count": 2,
   "id": "0ee868c2",
   "metadata": {},
   "outputs": [],
   "source": [
    "data_set_1_path = '/home/IITB/ai-at-ieor/23m1508/Shivam 23M1508/Interspeech/data/MLC-SLM_Workshop-Training_Set_1.zip'\n",
    "\n",
    "data_set_2_path = '/home/IITB/ai-at-ieor/23m1508/Shivam 23M1508/Interspeech/data/MLC-SLM_Workshop-Training_Set_2.zip'\n",
    "\n",
    "data_set_3_path = '/home/IITB/ai-at-ieor/23m1508/Shivam 23M1508/Interspeech/data/MLC-SLM_Workshop-Training_Set_3.zip'\n",
    "\n",
    "# data_set_development_set = '/home/IITB/ai-at-ieor/23m1508/Shivam 23M1508/Interspeech/data/MLC-SLM_Workshop-Training_Set_3.zip'\n",
    "\n",
    "data_set_development_set = '/scratch/IITB/ai-at-ieor/23m1508/23m1508_backup/MLC-SLM_Workshop-Development_Set.zip'\n",
    "\n",
    "data_set_evaluation_set = '/home/IITB/ai-at-ieor/23m1508/Shivam_23M1508/Interspeech/data/MLC-SLM_Workshop-Evaluation_Set_1.zip'"
   ]
  },
  {
   "cell_type": "code",
   "execution_count": 8,
   "id": "8cd93c42",
   "metadata": {},
   "outputs": [
    {
     "name": "stdout",
     "output_type": "stream",
     "text": [
      "Extracted to: /home/IITB/ai-at-ieor/23m1508/Shivam_23M1508/Interspeech/data/Evaluation_Set_1\n"
     ]
    }
   ],
   "source": [
    "# Define the extraction directory (optional, or extract to current dir)\n",
    "extract_dir = '/home/IITB/ai-at-ieor/23m1508/Shivam_23M1508/Interspeech/data/Evaluation_Set_1'\n",
    "\n",
    "# Make sure the directory exists\n",
    "os.makedirs(extract_dir, exist_ok=True)\n",
    "\n",
    "# Unzip the file\n",
    "with zipfile.ZipFile(data_set_evaluation_set, 'r') as zip_ref:\n",
    "    zip_ref.extractall(extract_dir)\n",
    "\n",
    "print(f\"Extracted to: {extract_dir}\")"
   ]
  },
  {
   "cell_type": "code",
   "execution_count": 6,
   "id": "1c97251c",
   "metadata": {},
   "outputs": [
    {
     "name": "stdout",
     "output_type": "stream",
     "text": [
      "Extracted to: /home/IITB/ai-at-ieor/23m1508/Shivam 23M1508/Interspeech/data/set_1_extracted\n"
     ]
    }
   ],
   "source": [
    "# Define the extraction directory (optional, or extract to current dir)\n",
    "extract_dir = '/home/IITB/ai-at-ieor/23m1508/Shivam 23M1508/Interspeech/data/set_1_extracted'\n",
    "\n",
    "# Make sure the directory exists\n",
    "os.makedirs(extract_dir, exist_ok=True)\n",
    "\n",
    "# Unzip the file\n",
    "with zipfile.ZipFile(data_set_1_path, 'r') as zip_ref:\n",
    "    zip_ref.extractall(extract_dir)\n",
    "\n",
    "print(f\"Extracted to: {extract_dir}\")"
   ]
  },
  {
   "cell_type": "code",
   "execution_count": 7,
   "metadata": {},
   "outputs": [
    {
     "name": "stdout",
     "output_type": "stream",
     "text": [
      "Extracted to: /home/IITB/ai-at-ieor/23m1508/Shivam 23M1508/Interspeech/data/set_2_extracted\n"
     ]
    }
   ],
   "source": [
    "# Define the extraction directory (optional, or extract to current dir)\n",
    "extract_dir = '/home/IITB/ai-at-ieor/23m1508/Shivam 23M1508/Interspeech/data/set_2_extracted'\n",
    "\n",
    "# Make sure the directory exists\n",
    "os.makedirs(extract_dir, exist_ok=True)\n",
    "\n",
    "# Unzip the file\n",
    "with zipfile.ZipFile(data_set_2_path, 'r') as zip_ref:\n",
    "    zip_ref.extractall(extract_dir)\n",
    "\n",
    "print(f\"Extracted to: {extract_dir}\")"
   ]
  },
  {
   "cell_type": "code",
   "execution_count": 4,
   "metadata": {},
   "outputs": [
    {
     "name": "stdout",
     "output_type": "stream",
     "text": [
      "Extracted to: /home/IITB/ai-at-ieor/23m1508/Shivam 23M1508/Interspeech/data/set_3_extracted\n"
     ]
    }
   ],
   "source": [
    "# Define the extraction directory (optional, or extract to current dir)\n",
    "extract_dir = '/home/IITB/ai-at-ieor/23m1508/Shivam 23M1508/Interspeech/data/set_3_extracted'\n",
    "\n",
    "# Make sure the directory exists\n",
    "os.makedirs(extract_dir, exist_ok=True)\n",
    "\n",
    "# Unzip the file\n",
    "with zipfile.ZipFile(data_set_3_path, 'r') as zip_ref:\n",
    "    zip_ref.extractall(extract_dir)\n",
    "\n",
    "print(f\"Extracted to: {extract_dir}\")"
   ]
  },
  {
   "cell_type": "code",
   "execution_count": 3,
   "id": "a75d1a67",
   "metadata": {},
   "outputs": [
    {
     "name": "stdout",
     "output_type": "stream",
     "text": [
      "Extracted to: /scratch/IITB/ai-at-ieor/23m1508/23m1508_backup/audio_development_set\n"
     ]
    }
   ],
   "source": [
    "# Define the extraction directory (optional, or extract to current dir)\n",
    "extract_dir = '/scratch/IITB/ai-at-ieor/23m1508/23m1508_backup/audio_development_set'\n",
    "\n",
    "# Make sure the directory exists\n",
    "os.makedirs(extract_dir, exist_ok=True)\n",
    "\n",
    "# Unzip the file\n",
    "with zipfile.ZipFile(data_set_development_set, 'r') as zip_ref:\n",
    "    zip_ref.extractall(extract_dir)\n",
    "\n",
    "print(f\"Extracted to: {extract_dir}\")"
   ]
  },
  {
   "cell_type": "code",
   "execution_count": null,
   "id": "43cf09b5",
   "metadata": {},
   "outputs": [],
   "source": []
  },
  {
   "cell_type": "code",
   "execution_count": null,
   "id": "c1da3837",
   "metadata": {},
   "outputs": [],
   "source": []
  },
  {
   "cell_type": "code",
   "execution_count": null,
   "id": "44b9464b",
   "metadata": {},
   "outputs": [],
   "source": []
  },
  {
   "cell_type": "code",
   "execution_count": null,
   "id": "588ad14f",
   "metadata": {},
   "outputs": [],
   "source": []
  }
 ],
 "metadata": {
  "kernelspec": {
   "display_name": "Python 3",
   "language": "python",
   "name": "python3"
  },
  "language_info": {
   "codemirror_mode": {
    "name": "ipython",
    "version": 3
   },
   "file_extension": ".py",
   "mimetype": "text/x-python",
   "name": "python",
   "nbconvert_exporter": "python",
   "pygments_lexer": "ipython3",
   "version": "3.13.2"
  }
 },
 "nbformat": 4,
 "nbformat_minor": 5
}
