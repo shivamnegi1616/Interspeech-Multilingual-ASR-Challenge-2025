{
 "cells": [
  {
   "cell_type": "code",
   "execution_count": 1,
   "id": "32825b4b",
   "metadata": {},
   "outputs": [],
   "source": [
    "### Buliding Our Custom Multilingual Tokenizer\n",
    "from collections import Counter\n",
    "import json\n",
    "import pandas as pd"
   ]
  },
  {
   "cell_type": "code",
   "execution_count": 2,
   "id": "3923ed39",
   "metadata": {},
   "outputs": [],
   "source": [
    "# full_data = pd.read_csv('/home/IITB/ai-at-ieor/23m1508/Shivam_23M1508/Interspeech/data/set1_set2_set3_combined.csv')\n",
    "\n",
    "\n",
    "full_data = pd.read_csv('/home/IITB/ai-at-ieor/23m1508/Shivam_23M1508/Interspeech/data/scratch_balanced_shuffled_data.csv')"
   ]
  },
  {
   "cell_type": "code",
   "execution_count": 4,
   "id": "c2c4d58d",
   "metadata": {},
   "outputs": [
    {
     "data": {
      "text/plain": [
       "class\n",
       "english       428641\n",
       "korean        110004\n",
       "japanese      107183\n",
       "italian       105837\n",
       "russian        97721\n",
       "portuguese     95924\n",
       "spanish        94066\n",
       "vietnamese     93151\n",
       "french         91711\n",
       "thai           87276\n",
       "german         87060\n",
       "Name: count, dtype: int64"
      ]
     },
     "execution_count": 4,
     "metadata": {},
     "output_type": "execute_result"
    }
   ],
   "source": [
    "full_data['class'].value_counts()"
   ]
  },
  {
   "cell_type": "code",
   "execution_count": 7,
   "id": "f38364dc",
   "metadata": {},
   "outputs": [],
   "source": [
    "eng_data = full_data[full_data['class'] == 'english']"
   ]
  },
  {
   "cell_type": "code",
   "execution_count": 12,
   "id": "ecb30172",
   "metadata": {},
   "outputs": [
    {
     "data": {
      "text/plain": [
       "(428641, 4)"
      ]
     },
     "execution_count": 12,
     "metadata": {},
     "output_type": "execute_result"
    }
   ],
   "source": [
    "eng_data.shape"
   ]
  },
  {
   "cell_type": "code",
   "execution_count": 13,
   "id": "2921dfc1",
   "metadata": {},
   "outputs": [],
   "source": [
    "kor_data = full_data[full_data['class'] == 'korean']"
   ]
  },
  {
   "cell_type": "code",
   "execution_count": 15,
   "id": "0fd992d9",
   "metadata": {},
   "outputs": [
    {
     "data": {
      "text/plain": [
       "(110004, 4)"
      ]
     },
     "execution_count": 15,
     "metadata": {},
     "output_type": "execute_result"
    }
   ],
   "source": [
    "kor_data.shape"
   ]
  },
  {
   "cell_type": "code",
   "execution_count": 16,
   "id": "a02f49f7",
   "metadata": {},
   "outputs": [],
   "source": [
    "jap_data = full_data[full_data['class'] == 'japanese']"
   ]
  },
  {
   "cell_type": "code",
   "execution_count": 19,
   "id": "f82753a3",
   "metadata": {},
   "outputs": [
    {
     "data": {
      "text/plain": [
       "(107183, 4)"
      ]
     },
     "execution_count": 19,
     "metadata": {},
     "output_type": "execute_result"
    }
   ],
   "source": [
    "jap_data.shape"
   ]
  },
  {
   "cell_type": "code",
   "execution_count": 20,
   "id": "d9ed10ce",
   "metadata": {},
   "outputs": [],
   "source": [
    "ita_data = full_data[full_data['class'] == 'italian']"
   ]
  },
  {
   "cell_type": "code",
   "execution_count": 23,
   "id": "68e1431b",
   "metadata": {},
   "outputs": [
    {
     "data": {
      "text/plain": [
       "(105837, 4)"
      ]
     },
     "execution_count": 23,
     "metadata": {},
     "output_type": "execute_result"
    }
   ],
   "source": [
    "ita_data.shape"
   ]
  },
  {
   "cell_type": "code",
   "execution_count": 24,
   "id": "a1d075a8",
   "metadata": {},
   "outputs": [],
   "source": [
    "rus_data = full_data[full_data['class'] == 'russian']"
   ]
  },
  {
   "cell_type": "code",
   "execution_count": 27,
   "id": "2c08c6a9",
   "metadata": {},
   "outputs": [
    {
     "data": {
      "text/plain": [
       "(97721, 4)"
      ]
     },
     "execution_count": 27,
     "metadata": {},
     "output_type": "execute_result"
    }
   ],
   "source": [
    "rus_data.shape"
   ]
  },
  {
   "cell_type": "code",
   "execution_count": 28,
   "id": "2f778d6e",
   "metadata": {},
   "outputs": [],
   "source": [
    "por_data = full_data[full_data['class'] == 'portuguese']"
   ]
  },
  {
   "cell_type": "code",
   "execution_count": 31,
   "id": "2f196ae4",
   "metadata": {},
   "outputs": [
    {
     "data": {
      "text/plain": [
       "(95924, 4)"
      ]
     },
     "execution_count": 31,
     "metadata": {},
     "output_type": "execute_result"
    }
   ],
   "source": [
    "por_data.shape"
   ]
  },
  {
   "cell_type": "code",
   "execution_count": 32,
   "id": "f094c3d5",
   "metadata": {},
   "outputs": [],
   "source": [
    "spa_data = full_data[full_data['class'] == 'spanish']"
   ]
  },
  {
   "cell_type": "code",
   "execution_count": 34,
   "id": "a4ba8ad1",
   "metadata": {},
   "outputs": [
    {
     "data": {
      "text/plain": [
       "(94066, 4)"
      ]
     },
     "execution_count": 34,
     "metadata": {},
     "output_type": "execute_result"
    }
   ],
   "source": [
    "spa_data.shape"
   ]
  },
  {
   "cell_type": "code",
   "execution_count": 35,
   "id": "4bb9ec0b",
   "metadata": {},
   "outputs": [],
   "source": [
    "vie_data = full_data[full_data['class'] == 'vietnamese']"
   ]
  },
  {
   "cell_type": "code",
   "execution_count": 37,
   "id": "5fd68e47",
   "metadata": {},
   "outputs": [
    {
     "data": {
      "text/plain": [
       "(93151, 4)"
      ]
     },
     "execution_count": 37,
     "metadata": {},
     "output_type": "execute_result"
    }
   ],
   "source": [
    "vie_data.shape"
   ]
  },
  {
   "cell_type": "code",
   "execution_count": 38,
   "id": "74b56942",
   "metadata": {},
   "outputs": [],
   "source": [
    "fre_data = full_data[full_data['class'] == 'french']"
   ]
  },
  {
   "cell_type": "code",
   "execution_count": 40,
   "id": "1d7fbeaa",
   "metadata": {},
   "outputs": [
    {
     "data": {
      "text/plain": [
       "(91711, 4)"
      ]
     },
     "execution_count": 40,
     "metadata": {},
     "output_type": "execute_result"
    }
   ],
   "source": [
    "fre_data.shape"
   ]
  },
  {
   "cell_type": "code",
   "execution_count": 41,
   "id": "4ef89ff2",
   "metadata": {},
   "outputs": [],
   "source": [
    "tha_data = full_data[full_data['class'] == 'thai']"
   ]
  },
  {
   "cell_type": "code",
   "execution_count": 44,
   "id": "91e0499d",
   "metadata": {},
   "outputs": [
    {
     "data": {
      "text/plain": [
       "(87276, 4)"
      ]
     },
     "execution_count": 44,
     "metadata": {},
     "output_type": "execute_result"
    }
   ],
   "source": [
    "tha_data.shape"
   ]
  },
  {
   "cell_type": "code",
   "execution_count": 45,
   "id": "0d72ceba",
   "metadata": {},
   "outputs": [],
   "source": [
    "ger_data = full_data[full_data['class'] == 'german']"
   ]
  },
  {
   "cell_type": "code",
   "execution_count": 47,
   "id": "a47ae27c",
   "metadata": {},
   "outputs": [
    {
     "data": {
      "text/plain": [
       "(87060, 4)"
      ]
     },
     "execution_count": 47,
     "metadata": {},
     "output_type": "execute_result"
    }
   ],
   "source": [
    "ger_data.shape"
   ]
  },
  {
   "cell_type": "code",
   "execution_count": null,
   "id": "88b3a52a",
   "metadata": {},
   "outputs": [],
   "source": []
  },
  {
   "cell_type": "code",
   "execution_count": null,
   "id": "08f0e249",
   "metadata": {},
   "outputs": [],
   "source": []
  },
  {
   "cell_type": "code",
   "execution_count": 44,
   "id": "35e468eb",
   "metadata": {},
   "outputs": [],
   "source": [
    "# full_data.loc[full_data['class'] == 'english', 'Text'] = full_data.loc[full_data['class'] == 'english', 'Text'].apply(lambda x: x.lower())"
   ]
  },
  {
   "cell_type": "code",
   "execution_count": 117,
   "id": "851319d9",
   "metadata": {},
   "outputs": [],
   "source": [
    "# def lowercase_english_letters(text):\n",
    "#     return ''.join([c.lower() if c.isascii() and c.isalpha() else c for c in text])"
   ]
  },
  {
   "cell_type": "code",
   "execution_count": 156,
   "id": "c8d48169",
   "metadata": {},
   "outputs": [],
   "source": [
    "def lowercase_all_letters(text):\n",
    "    return ''.join([c.lower() if c.isalpha() else c for c in text])"
   ]
  },
  {
   "cell_type": "code",
   "execution_count": 157,
   "id": "629dadf9",
   "metadata": {},
   "outputs": [
    {
     "name": "stderr",
     "output_type": "stream",
     "text": [
      "/tmp/ipykernel_4050649/2431544936.py:1: SettingWithCopyWarning: \n",
      "A value is trying to be set on a copy of a slice from a DataFrame.\n",
      "Try using .loc[row_indexer,col_indexer] = value instead\n",
      "\n",
      "See the caveats in the documentation: https://pandas.pydata.org/pandas-docs/stable/user_guide/indexing.html#returning-a-view-versus-a-copy\n",
      "  ger_data['Text'] = ger_data['Text'].apply(lowercase_all_letters)\n"
     ]
    }
   ],
   "source": [
    "ger_data['Text'] = ger_data['Text'].apply(lowercase_all_letters)"
   ]
  },
  {
   "cell_type": "code",
   "execution_count": 120,
   "id": "78befa04",
   "metadata": {},
   "outputs": [
    {
     "data": {
      "text/plain": [
       "'но, я думаю,'"
      ]
     },
     "execution_count": 120,
     "metadata": {},
     "output_type": "execute_result"
    }
   ],
   "source": [
    "rus_data.iloc[84453]['Text']"
   ]
  },
  {
   "cell_type": "code",
   "execution_count": 159,
   "id": "82893a05",
   "metadata": {},
   "outputs": [],
   "source": [
    "import pandas as pd\n",
    "from collections import Counter\n",
    "import json\n",
    "import re\n",
    "\n",
    "\n",
    "def clean_text(text):\n",
    "    characters_to_remove = r'[,\\?\\.\\!\\-\\;\\:\\%\\'\\`\\{}()@#$%^&*\\+\\[\\]\\_｡]+'\n",
    "    cleaned_text = re.sub(characters_to_remove, '', text)\n",
    "    # cleaned_text = ''.join([c.lower() if c.isascii() else c for c in cleaned_text]) + ' '\n",
    "    return cleaned_text\n",
    "\n",
    "# def clean_text(text):\n",
    "\n",
    "#     characters_to_remove = r'[,\\?\\.\\!\\-\\;\\:\\%\\'\\`\\{}()@#$%^&*\\+\\[\\]\\_]+'\n",
    "#     cleaned_text = re.sub(characters_to_remove, '', text).upper() + ' '\n",
    "#     return cleaned_text\n",
    "\n",
    "\n",
    "def build_vocab_from_dataframe(df, text_column, output_vocab_path, min_freq = 10):\n",
    "\n",
    "    # Replace spaces with '|' for CTC-friendly word boundary\n",
    "    text_data = df[text_column].astype(str).str.replace(\" \", \"|\", regex = False).str.cat(sep = \"\")\n",
    "\n",
    "    text_data = clean_text(text_data)\n",
    "    \n",
    "    # Create character list\n",
    "    chars = list(text_data)\n",
    "\n",
    "    # Count characters\n",
    "    counter = Counter(chars)\n",
    "\n",
    "    filtered_items = [(char, count) for char, count in counter.items() if count >= min_freq]\n",
    "    \n",
    "    # Build vocab: sorted by character\n",
    "    vocab = {char: i for i, (char, _) in enumerate(sorted(filtered_items, key=lambda x: x[0]))}\n",
    "\n",
    "    # Add CTC or model-specific special tokens\n",
    "    special_tokens = [\"<pad>\", \"<unk>\", \"<s>\", \"</s>\"]\n",
    "    for token in special_tokens:\n",
    "        if token not in vocab:\n",
    "            vocab[token] = len(vocab)\n",
    "\n",
    "    # Save to JSON\n",
    "    with open(output_vocab_path, \"w\", encoding=\"utf-8\") as f:\n",
    "        json.dump(vocab, f, ensure_ascii = False, indent = 2)\n",
    "\n",
    "    print(f\"Vocab saved to {output_vocab_path} with {len(vocab)} tokens (min freq = {min_freq}).\")"
   ]
  },
  {
   "cell_type": "code",
   "execution_count": 160,
   "id": "a97bb382",
   "metadata": {},
   "outputs": [
    {
     "name": "stdout",
     "output_type": "stream",
     "text": [
      "Vocab saved to /home/IITB/ai-at-ieor/23m1508/Shivam_23M1508/Interspeech/code/model_code/model_files/ger_vocab.json with 36 tokens (min freq = 10).\n"
     ]
    }
   ],
   "source": [
    "build_vocab_from_dataframe(\n",
    "                                df=ger_data,\n",
    "                                text_column=\"Text\",\n",
    "                                output_vocab_path=\"/home/IITB/ai-at-ieor/23m1508/Shivam_23M1508/Interspeech/code/model_code/model_files/ger_vocab.json\",\n",
    "                                min_freq = 10\n",
    "                            )"
   ]
  },
  {
   "cell_type": "code",
   "execution_count": 15,
   "id": "d6985fd4",
   "metadata": {},
   "outputs": [],
   "source": [
    "# Vocab saved to /home/IITB/ai-at-ieor/23m1508/Shivam_23M1508/Interspeech/code/model_code/model_files/multilingual_vocab.json with 3086 tokens (min freq = 10)."
   ]
  },
  {
   "cell_type": "code",
   "execution_count": 62,
   "id": "e5bc633e",
   "metadata": {},
   "outputs": [
    {
     "data": {
      "text/html": [
       "<div>\n",
       "<style scoped>\n",
       "    .dataframe tbody tr th:only-of-type {\n",
       "        vertical-align: middle;\n",
       "    }\n",
       "\n",
       "    .dataframe tbody tr th {\n",
       "        vertical-align: top;\n",
       "    }\n",
       "\n",
       "    .dataframe thead th {\n",
       "        text-align: right;\n",
       "    }\n",
       "</style>\n",
       "<table border=\"1\" class=\"dataframe\">\n",
       "  <thead>\n",
       "    <tr style=\"text-align: right;\">\n",
       "      <th></th>\n",
       "      <th>ID</th>\n",
       "      <th>Text</th>\n",
       "      <th>Path</th>\n",
       "      <th>class</th>\n",
       "    </tr>\n",
       "  </thead>\n",
       "  <tbody>\n",
       "    <tr>\n",
       "      <th>2</th>\n",
       "      <td>0003-0003_005-O2-049763-050186</td>\n",
       "      <td>다은이 나오고 그날 유미랑 만나는 거 다은이랑 유미랑 만나는 거.</td>\n",
       "      <td>/scratch/IITB/ai-at-ieor/23m1508/23m1508_backu...</td>\n",
       "      <td>korean</td>\n",
       "    </tr>\n",
       "    <tr>\n",
       "      <th>5</th>\n",
       "      <td>0210-0210_003-O1-006979-007581</td>\n",
       "      <td>근데 이게 또 이게 교육이라는 게 참 가르치는 사람이 진짜 중요하잖아요.</td>\n",
       "      <td>/scratch/IITB/ai-at-ieor/23m1508/23m1508_backu...</td>\n",
       "      <td>korean</td>\n",
       "    </tr>\n",
       "    <tr>\n",
       "      <th>14</th>\n",
       "      <td>0191-0191_003-O2-053992-054564</td>\n",
       "      <td>아무런 선택지가 없이 겪어야 되는 게 제일 힘든 점이라고 생각을 해.</td>\n",
       "      <td>/scratch/IITB/ai-at-ieor/23m1508/23m1508_backu...</td>\n",
       "      <td>korean</td>\n",
       "    </tr>\n",
       "    <tr>\n",
       "      <th>28</th>\n",
       "      <td>0188-0188_003-O2-052166-052517</td>\n",
       "      <td>어 처음 들어보는것 같아요. 맛이 어떤가요 비싸진 않나요?</td>\n",
       "      <td>/scratch/IITB/ai-at-ieor/23m1508/23m1508_backu...</td>\n",
       "      <td>korean</td>\n",
       "    </tr>\n",
       "    <tr>\n",
       "      <th>35</th>\n",
       "      <td>0135-0135_005-O2-114136-114226</td>\n",
       "      <td>정신 파예요?</td>\n",
       "      <td>/scratch/IITB/ai-at-ieor/23m1508/23m1508_backu...</td>\n",
       "      <td>korean</td>\n",
       "    </tr>\n",
       "    <tr>\n",
       "      <th>...</th>\n",
       "      <td>...</td>\n",
       "      <td>...</td>\n",
       "      <td>...</td>\n",
       "      <td>...</td>\n",
       "    </tr>\n",
       "    <tr>\n",
       "      <th>1199961</th>\n",
       "      <td>0204-0204_004-O2-023268-023637</td>\n",
       "      <td>그럼 나 두시에 일어나 세시에 일어나 네시에 일어나 이래 근데 자기는 자.</td>\n",
       "      <td>/scratch/IITB/ai-at-ieor/23m1508/23m1508_backu...</td>\n",
       "      <td>korean</td>\n",
       "    </tr>\n",
       "    <tr>\n",
       "      <th>1199972</th>\n",
       "      <td>0185-0185_001-O2-006845-007004</td>\n",
       "      <td>그 정호연인가?</td>\n",
       "      <td>/scratch/IITB/ai-at-ieor/23m1508/23m1508_backu...</td>\n",
       "      <td>korean</td>\n",
       "    </tr>\n",
       "    <tr>\n",
       "      <th>1199987</th>\n",
       "      <td>0137-0137_005-O2-051707-052314</td>\n",
       "      <td>물고기들이 이렇게 지나가면은 이제 그 지나가는게 눈에 다 보일 정도로 그런 깨끗한 ...</td>\n",
       "      <td>/scratch/IITB/ai-at-ieor/23m1508/23m1508_backu...</td>\n",
       "      <td>korean</td>\n",
       "    </tr>\n",
       "    <tr>\n",
       "      <th>1199989</th>\n",
       "      <td>0188-0188_004-O2-064345-064575</td>\n",
       "      <td>아무리 먹어도 그 칼로리</td>\n",
       "      <td>/scratch/IITB/ai-at-ieor/23m1508/23m1508_backu...</td>\n",
       "      <td>korean</td>\n",
       "    </tr>\n",
       "    <tr>\n",
       "      <th>1199997</th>\n",
       "      <td>0072-0072_006-O2-134520-135313</td>\n",
       "      <td>물론 환경오염이 환경오염을 일으킬 순 있지만 그래도 엄청 작아서 가지고 다니기는 용...</td>\n",
       "      <td>/scratch/IITB/ai-at-ieor/23m1508/23m1508_backu...</td>\n",
       "      <td>korean</td>\n",
       "    </tr>\n",
       "  </tbody>\n",
       "</table>\n",
       "<p>110004 rows × 4 columns</p>\n",
       "</div>"
      ],
      "text/plain": [
       "                                     ID  \\\n",
       "2        0003-0003_005-O2-049763-050186   \n",
       "5        0210-0210_003-O1-006979-007581   \n",
       "14       0191-0191_003-O2-053992-054564   \n",
       "28       0188-0188_003-O2-052166-052517   \n",
       "35       0135-0135_005-O2-114136-114226   \n",
       "...                                 ...   \n",
       "1199961  0204-0204_004-O2-023268-023637   \n",
       "1199972  0185-0185_001-O2-006845-007004   \n",
       "1199987  0137-0137_005-O2-051707-052314   \n",
       "1199989  0188-0188_004-O2-064345-064575   \n",
       "1199997  0072-0072_006-O2-134520-135313   \n",
       "\n",
       "                                                      Text  \\\n",
       "2                     다은이 나오고 그날 유미랑 만나는 거 다은이랑 유미랑 만나는 거.   \n",
       "5                 근데 이게 또 이게 교육이라는 게 참 가르치는 사람이 진짜 중요하잖아요.   \n",
       "14                  아무런 선택지가 없이 겪어야 되는 게 제일 힘든 점이라고 생각을 해.   \n",
       "28                        어 처음 들어보는것 같아요. 맛이 어떤가요 비싸진 않나요?   \n",
       "35                                                 정신 파예요?   \n",
       "...                                                    ...   \n",
       "1199961          그럼 나 두시에 일어나 세시에 일어나 네시에 일어나 이래 근데 자기는 자.   \n",
       "1199972                                           그 정호연인가?   \n",
       "1199987  물고기들이 이렇게 지나가면은 이제 그 지나가는게 눈에 다 보일 정도로 그런 깨끗한 ...   \n",
       "1199989                                      아무리 먹어도 그 칼로리   \n",
       "1199997  물론 환경오염이 환경오염을 일으킬 순 있지만 그래도 엄청 작아서 가지고 다니기는 용...   \n",
       "\n",
       "                                                      Path   class  \n",
       "2        /scratch/IITB/ai-at-ieor/23m1508/23m1508_backu...  korean  \n",
       "5        /scratch/IITB/ai-at-ieor/23m1508/23m1508_backu...  korean  \n",
       "14       /scratch/IITB/ai-at-ieor/23m1508/23m1508_backu...  korean  \n",
       "28       /scratch/IITB/ai-at-ieor/23m1508/23m1508_backu...  korean  \n",
       "35       /scratch/IITB/ai-at-ieor/23m1508/23m1508_backu...  korean  \n",
       "...                                                    ...     ...  \n",
       "1199961  /scratch/IITB/ai-at-ieor/23m1508/23m1508_backu...  korean  \n",
       "1199972  /scratch/IITB/ai-at-ieor/23m1508/23m1508_backu...  korean  \n",
       "1199987  /scratch/IITB/ai-at-ieor/23m1508/23m1508_backu...  korean  \n",
       "1199989  /scratch/IITB/ai-at-ieor/23m1508/23m1508_backu...  korean  \n",
       "1199997  /scratch/IITB/ai-at-ieor/23m1508/23m1508_backu...  korean  \n",
       "\n",
       "[110004 rows x 4 columns]"
      ]
     },
     "execution_count": 62,
     "metadata": {},
     "output_type": "execute_result"
    }
   ],
   "source": [
    "kor_data"
   ]
  },
  {
   "cell_type": "markdown",
   "id": "788c0664",
   "metadata": {},
   "source": [
    "### Adding the blank token in each vocabulary"
   ]
  },
  {
   "cell_type": "code",
   "execution_count": 2,
   "id": "67f27314",
   "metadata": {},
   "outputs": [],
   "source": [
    "import json"
   ]
  },
  {
   "cell_type": "code",
   "execution_count": 1,
   "id": "7eb21469",
   "metadata": {},
   "outputs": [],
   "source": [
    "# main the order as per the lang2id\n",
    "vocab_paths = {\n",
    "                \"english\" : \"/home/IITB/ai-at-ieor/23m1508/Shivam_23M1508/Interspeech/code/model_code/model_files/eng_vocab.json\",\n",
    "                \"korean\" : \"/home/IITB/ai-at-ieor/23m1508/Shivam_23M1508/Interspeech/code/model_code/model_files/kor_vocab.json\",\n",
    "                \"japanese\" : \"/home/IITB/ai-at-ieor/23m1508/Shivam_23M1508/Interspeech/code/model_code/model_files/jap_vocab.json\",\n",
    "                \"italian\" : \"/home/IITB/ai-at-ieor/23m1508/Shivam_23M1508/Interspeech/code/model_code/model_files/ita_vocab.json\",\n",
    "                \"russian\" : \"/home/IITB/ai-at-ieor/23m1508/Shivam_23M1508/Interspeech/code/model_code/model_files/rus_vocab.json\",\n",
    "                \"portuguese\" : \"/home/IITB/ai-at-ieor/23m1508/Shivam_23M1508/Interspeech/code/model_code/model_files/por_vocab.json\",\n",
    "                \"spanish\" : \"/home/IITB/ai-at-ieor/23m1508/Shivam_23M1508/Interspeech/code/model_code/model_files/spa_vocab.json\",\n",
    "                \"vietnamese\" : \"/home/IITB/ai-at-ieor/23m1508/Shivam_23M1508/Interspeech/code/model_code/model_files/vie_vocab.json\",\n",
    "                \"french\" : \"/home/IITB/ai-at-ieor/23m1508/Shivam_23M1508/Interspeech/code/model_code/model_files/fre_vocab.json\",\n",
    "                \"thai\" : \"/home/IITB/ai-at-ieor/23m1508/Shivam_23M1508/Interspeech/code/model_code/model_files/tha_vocab.json\",\n",
    "                \"german\" : \"/home/IITB/ai-at-ieor/23m1508/Shivam_23M1508/Interspeech/code/model_code/model_files/ger_vocab.json\"\n",
    "                }"
   ]
  },
  {
   "cell_type": "code",
   "execution_count": null,
   "id": "2501256c",
   "metadata": {},
   "outputs": [],
   "source": [
    "\n",
    "# Load, modify, and overwrite vocab files\n",
    "for lang, path in vocab_paths.items():\n",
    "    with open(path, \"r\", encoding=\"utf-8\") as f:\n",
    "        vocab = json.load(f)\n",
    "\n",
    "    # Sort vocab by value (index) to ensure order, then re-insert <blank> at 0\n",
    "    sorted_vocab = sorted(vocab.items(), key = lambda x: x[1])\n",
    "    tokens = [token for token, _ in sorted_vocab]\n",
    "\n",
    "    if \"<blank>\" not in tokens:\n",
    "        tokens = [\"<blank>\"] + tokens\n",
    "    elif tokens[0] != \"<blank>\":\n",
    "        tokens.remove(\"<blank>\")\n",
    "        tokens = [\"<blank>\"] + tokens\n",
    "\n",
    "    new_vocab = {token: idx for idx, token in enumerate(tokens)}\n",
    "\n",
    "    with open(path, \"w\", encoding=\"utf-8\") as f:\n",
    "        json.dump(new_vocab, f, indent=2, ensure_ascii=False)\n"
   ]
  },
  {
   "cell_type": "code",
   "execution_count": null,
   "id": "80c1385e",
   "metadata": {},
   "outputs": [
    {
     "data": {
      "text/plain": [
       "dict_keys(['english', 'korean', 'japanese', 'italian', 'russian', 'portuguese', 'spanish', 'vietnamese', 'french', 'thai', 'german'])"
      ]
     },
     "execution_count": 4,
     "metadata": {},
     "output_type": "execute_result"
    }
   ],
   "source": [
    "vocab_paths.keys()  # Return the languages updated"
   ]
  },
  {
   "cell_type": "code",
   "execution_count": null,
   "id": "530032ec",
   "metadata": {},
   "outputs": [],
   "source": []
  }
 ],
 "metadata": {
  "kernelspec": {
   "display_name": "shivam_env",
   "language": "python",
   "name": "python3"
  },
  "language_info": {
   "codemirror_mode": {
    "name": "ipython",
    "version": 3
   },
   "file_extension": ".py",
   "mimetype": "text/x-python",
   "name": "python",
   "nbconvert_exporter": "python",
   "pygments_lexer": "ipython3",
   "version": "3.13.2"
  }
 },
 "nbformat": 4,
 "nbformat_minor": 5
}
