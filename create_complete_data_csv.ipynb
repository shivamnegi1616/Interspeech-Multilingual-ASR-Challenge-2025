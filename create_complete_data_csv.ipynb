{
 "cells": [
  {
   "cell_type": "code",
   "execution_count": 2,
   "id": "d8e97853",
   "metadata": {},
   "outputs": [],
   "source": [
    "import csv"
   ]
  },
  {
   "cell_type": "code",
   "execution_count": 3,
   "id": "5a756ad7",
   "metadata": {},
   "outputs": [],
   "source": [
    "def make_data(text_path, wav_scp_path, output_csv_path):\n",
    "\n",
    "    # Read text file\n",
    "    id_to_text = {}\n",
    "    with open(text_path, 'r', encoding='utf-8') as f:\n",
    "        for line in f:\n",
    "            parts = line.strip().split(' ', 1)\n",
    "            if len(parts) == 2:\n",
    "                utt_id, text = parts\n",
    "                id_to_text[utt_id] = text\n",
    "                \n",
    "                \n",
    "    # Read wav.scp file\n",
    "    id_to_path = {}\n",
    "    with open(wav_scp_path, 'r', encoding='utf-8') as f:\n",
    "        for line in f:\n",
    "            parts = line.strip().split(' ', 1)\n",
    "            if len(parts) == 2:\n",
    "                utt_id, path = parts\n",
    "                id_to_path[utt_id] = path\n",
    "    # Now open the output CSV and write\n",
    "    with open(output_csv_path, 'a', newline='', encoding='utf-8') as csvfile:\n",
    "        writer = csv.writer(csvfile)\n",
    "\n",
    "        # Write header only if the file is empty\n",
    "        if csvfile.tell() == 0:\n",
    "            writer.writerow(['ID', 'Text', 'Path'])  # Header\n",
    "\n",
    "\n",
    "        for utt_id in id_to_text:\n",
    "            if utt_id in id_to_path:\n",
    "                writer.writerow([utt_id, id_to_text[utt_id], id_to_path[utt_id]])"
   ]
  },
  {
   "cell_type": "code",
   "execution_count": 6,
   "id": "bcd7a1c4",
   "metadata": {},
   "outputs": [],
   "source": [
    "text_path = \"/scratch/IITB/ai-at-ieor/23m1508/23m1508_backup/Evaluation_Set_1/evaluation_paths.txt\"\n",
    "wav_scp_path = \"/scratch/IITB/ai-at-ieor/23m1508/23m1508_backup/Evaluation_Set_1/All_Evaluation_audio/wav.scp\"\n",
    "output_csv_path = \"/scratch/IITB/ai-at-ieor/23m1508/23m1508_backup/Evaluation_Set_1/evaluation_paths.csv\""
   ]
  },
  {
   "cell_type": "code",
   "execution_count": 7,
   "id": "e06ba58f",
   "metadata": {},
   "outputs": [],
   "source": [
    "make_data(text_path, wav_scp_path, output_csv_path)"
   ]
  },
  {
   "cell_type": "markdown",
   "id": "da0667ae",
   "metadata": {},
   "source": [
    "### Make CSV from the Deveplopment Set"
   ]
  },
  {
   "cell_type": "code",
   "execution_count": 18,
   "id": "e28712db",
   "metadata": {},
   "outputs": [],
   "source": [
    "text_path = \"/scratch/IITB/ai-at-ieor/23m1508/23m1508_backup/audio_development_set/Vietnamese_split/text\"\n",
    "\n",
    "wav_scp_path = \"/scratch/IITB/ai-at-ieor/23m1508/23m1508_backup/audio_development_set/Vietnamese_split/wav.scp\"\n",
    "\n",
    "output_csv_path = \"/scratch/IITB/ai-at-ieor/23m1508/23m1508_backup/data_dev_csv/vietnamese.csv\"\n",
    "\n",
    "make_data(text_path, wav_scp_path, output_csv_path)"
   ]
  },
  {
   "cell_type": "code",
   "execution_count": null,
   "metadata": {},
   "outputs": [],
   "source": []
  },
  {
   "cell_type": "code",
   "execution_count": null,
   "metadata": {},
   "outputs": [],
   "source": []
  },
  {
   "cell_type": "code",
   "execution_count": null,
   "id": "c0075756",
   "metadata": {},
   "outputs": [],
   "source": []
  },
  {
   "cell_type": "code",
   "execution_count": null,
   "id": "71bd45c2",
   "metadata": {},
   "outputs": [],
   "source": []
  },
  {
   "cell_type": "markdown",
   "id": "3b4e61c2",
   "metadata": {},
   "source": [
    "### Reading all english paths"
   ]
  },
  {
   "cell_type": "code",
   "execution_count": 3,
   "id": "796dae5e",
   "metadata": {},
   "outputs": [],
   "source": [
    "eng_path_1 = \"/home/IITB/ai-at-ieor/23m1508/Shivam_23M1508/Interspeech/data/audio_set_1_chunks/chunk_1/text\"\n",
    "eng_wav_1 = \"/home/IITB/ai-at-ieor/23m1508/Shivam_23M1508/Interspeech/data/audio_set_1_chunks/chunk_1/wav.scp\"\n",
    "eng_path_2 = \"/home/IITB/ai-at-ieor/23m1508/Shivam_23M1508/Interspeech/data/audio_set_1_chunks/chunk_2/text\"\n",
    "eng_wav_2 = \"/home/IITB/ai-at-ieor/23m1508/Shivam_23M1508/Interspeech/data/audio_set_1_chunks/chunk_2/wav.scp\"\n",
    "eng_path_3 = \"/home/IITB/ai-at-ieor/23m1508/Shivam_23M1508/Interspeech/data/audio_set_1_chunks/chunk_3/text\"\n",
    "eng_wav_3 = \"/home/IITB/ai-at-ieor/23m1508/Shivam_23M1508/Interspeech/data/audio_set_1_chunks/chunk_3/wav.scp\"\n",
    "eng_path_4 = \"/home/IITB/ai-at-ieor/23m1508/Shivam_23M1508/Interspeech/data/audio_set_1_chunks/chunk_4/text\"\n",
    "eng_wav_4 = \"/home/IITB/ai-at-ieor/23m1508/Shivam_23M1508/Interspeech/data/audio_set_1_chunks/chunk_4/wav.scp\"\n",
    "eng_path_5 = \"/home/IITB/ai-at-ieor/23m1508/Shivam_23M1508/Interspeech/data/audio_set_1_chunks/chunk_5/text\"\n",
    "eng_wav_5 = \"/home/IITB/ai-at-ieor/23m1508/Shivam_23M1508/Interspeech/data/audio_set_1_chunks/chunk_5/wav.scp\"\n",
    "eng_path_6 = \"/home/IITB/ai-at-ieor/23m1508/Shivam_23M1508/Interspeech/data/audio_set_1_chunks/chunk_6/text\"\n",
    "eng_wav_6 = \"/home/IITB/ai-at-ieor/23m1508/Shivam_23M1508/Interspeech/data/audio_set_1_chunks/chunk_6/wav.scp\"\n",
    "eng_path_7 = \"/home/IITB/ai-at-ieor/23m1508/Shivam_23M1508/Interspeech/data/audio_set_1_chunks/chunk_7/text\"\n",
    "eng_wav_7 = \"/home/IITB/ai-at-ieor/23m1508/Shivam_23M1508/Interspeech/data/audio_set_1_chunks/chunk_7/wav.scp\"\n",
    "eng_path_8 = \"/home/IITB/ai-at-ieor/23m1508/Shivam_23M1508/Interspeech/data/audio_set_1_chunks/chunk_8/text\"\n",
    "eng_wav_8 = \"/home/IITB/ai-at-ieor/23m1508/Shivam_23M1508/Interspeech/data/audio_set_1_chunks/chunk_8/wav.scp\"\n",
    "eng_path_9 = \"/home/IITB/ai-at-ieor/23m1508/Shivam_23M1508/Interspeech/data/audio_set_1_chunks/chunk_9/text\"\n",
    "eng_wav_9 = \"/home/IITB/ai-at-ieor/23m1508/Shivam_23M1508/Interspeech/data/audio_set_1_chunks/chunk_9/wav.scp\""
   ]
  },
  {
   "cell_type": "code",
   "execution_count": 6,
   "id": "73c5bd48",
   "metadata": {},
   "outputs": [],
   "source": [
    "all_eng_text_path = [\n",
    "                        eng_path_1,\n",
    "                        eng_path_2,\n",
    "                        eng_path_3,\n",
    "                        eng_path_4,\n",
    "                        eng_path_5,\n",
    "                        eng_path_6,\n",
    "                        eng_path_7,\n",
    "                        eng_path_8,\n",
    "                        eng_path_9\n",
    "                    ]\n",
    "\n",
    "all_eng_wav_path = [\n",
    "                        eng_wav_1,\n",
    "                        eng_wav_2,\n",
    "                        eng_wav_3,\n",
    "                        eng_wav_4,\n",
    "                        eng_wav_5,\n",
    "                        eng_wav_6,\n",
    "                        eng_wav_7,\n",
    "                        eng_wav_8,\n",
    "                        eng_wav_9\n",
    "                    ]"
   ]
  },
  {
   "cell_type": "code",
   "execution_count": 19,
   "id": "97217bf7",
   "metadata": {},
   "outputs": [
    {
     "name": "stdout",
     "output_type": "stream",
     "text": [
      "CSV created\n",
      "CSV created\n",
      "CSV created\n",
      "CSV created\n",
      "CSV created\n",
      "CSV created\n",
      "CSV created\n",
      "CSV created\n",
      "CSV created\n"
     ]
    }
   ],
   "source": [
    "for text_path, wav_path in zip(all_eng_text_path, all_eng_wav_path):\n",
    "    # Extract the chunk number from the text path\n",
    "    chunk_number = text_path.split('/')[-2].split('_')[-1]\n",
    "    \n",
    "    # Define the output CSV path\n",
    "    output_csv_path = f\"/home/IITB/ai-at-ieor/23m1508/Shivam_23M1508/Interspeech/data/audio_set_1_chunks/set_1_complete.csv\"\n",
    "    \n",
    "    # Call the function to create the CSV\n",
    "    make_data(text_path, wav_path, output_csv_path)\n",
    "    print(f\"CSV created\")"
   ]
  },
  {
   "cell_type": "code",
   "execution_count": 20,
   "id": "f87c76c0",
   "metadata": {},
   "outputs": [],
   "source": [
    "import pandas as pd\n",
    "data = pd.read_csv(\"/home/IITB/ai-at-ieor/23m1508/Shivam_23M1508/Interspeech/data/audio_set_1_chunks/set_1_complete.csv\")"
   ]
  },
  {
   "cell_type": "code",
   "execution_count": 23,
   "id": "644ae60d",
   "metadata": {},
   "outputs": [],
   "source": [
    "data['class'] = 'english'"
   ]
  },
  {
   "cell_type": "code",
   "execution_count": 25,
   "id": "aff8be57",
   "metadata": {},
   "outputs": [],
   "source": [
    "data.to_csv(\"/home/IITB/ai-at-ieor/23m1508/Shivam_23M1508/Interspeech/data/audio_set_1_chunks/set_1_complete.csv\", index=False)"
   ]
  },
  {
   "cell_type": "markdown",
   "id": "80571f45",
   "metadata": {},
   "source": [
    "### Reading all french paths"
   ]
  },
  {
   "cell_type": "code",
   "execution_count": 7,
   "id": "f0a6acc0",
   "metadata": {},
   "outputs": [],
   "source": [
    "french_path_1 = \"/home/IITB/ai-at-ieor/23m1508/Shivam_23M1508/Interspeech/data/audio_set_2_chunks/french/chunk_1/text\"\n",
    "french_wav_1 = \"/home/IITB/ai-at-ieor/23m1508/Shivam_23M1508/Interspeech/data/audio_set_2_chunks/french/chunk_1/wav.scp\"\n",
    "\n",
    "french_path_2 = \"/home/IITB/ai-at-ieor/23m1508/Shivam_23M1508/Interspeech/data/audio_set_2_chunks/french/chunk_2/text\"\n",
    "french_wav_2 = \"/home/IITB/ai-at-ieor/23m1508/Shivam_23M1508/Interspeech/data/audio_set_2_chunks/french/chunk_2/wav.scp\"\n",
    "\n",
    "\n",
    "all_french_text_path = [\n",
    "                        french_path_1,\n",
    "                        french_path_2\n",
    "                    ]\n",
    "\n",
    "all_french_wav_path = [\n",
    "                        french_wav_1,\n",
    "                        french_wav_2\n",
    "                    ]"
   ]
  },
  {
   "cell_type": "code",
   "execution_count": 8,
   "id": "4754274c",
   "metadata": {},
   "outputs": [
    {
     "name": "stdout",
     "output_type": "stream",
     "text": [
      "CSV created\n",
      "CSV created\n"
     ]
    }
   ],
   "source": [
    "for text_path, wav_path in zip(all_french_text_path, all_french_wav_path):\n",
    "    # Extract the chunk number from the text path\n",
    "    chunk_number = text_path.split('/')[-2].split('_')[-1]\n",
    "    \n",
    "    # Define the output CSV path\n",
    "    output_csv_path = f\"/home/IITB/ai-at-ieor/23m1508/Shivam_23M1508/Interspeech/data/audio_set_2_chunks/french/french.csv\"\n",
    "    \n",
    "    # Call the function to create the CSV\n",
    "    make_data(text_path, wav_path, output_csv_path)\n",
    "    print(f\"CSV created\")"
   ]
  },
  {
   "cell_type": "code",
   "execution_count": 11,
   "id": "367c5987",
   "metadata": {},
   "outputs": [],
   "source": [
    "import pandas as pd\n",
    "\n",
    "data = pd.read_csv(\"/home/IITB/ai-at-ieor/23m1508/Shivam_23M1508/Interspeech/data/audio_set_2_chunks/french/french.csv\")\n",
    "\n",
    "data['class'] = 'french'\n",
    "\n",
    "data.to_csv(\"/home/IITB/ai-at-ieor/23m1508/Shivam_23M1508/Interspeech/data/audio_set_2_chunks/french/french.csv\", index=False)"
   ]
  },
  {
   "cell_type": "markdown",
   "id": "27b5cf59",
   "metadata": {},
   "source": [
    "### Reading all german paths"
   ]
  },
  {
   "cell_type": "code",
   "execution_count": 12,
   "id": "2e9d2205",
   "metadata": {},
   "outputs": [],
   "source": [
    "german_path_1 = \"/home/IITB/ai-at-ieor/23m1508/Shivam_23M1508/Interspeech/data/audio_set_2_chunks/german/chunk_1/text\"\n",
    "german_wav_1 = \"/home/IITB/ai-at-ieor/23m1508/Shivam_23M1508/Interspeech/data/audio_set_2_chunks/german/chunk_1/wav.scp\"\n",
    "\n",
    "german_path_2 = \"/home/IITB/ai-at-ieor/23m1508/Shivam_23M1508/Interspeech/data/audio_set_2_chunks/german/chunk_2/text\"\n",
    "german_wav_2 = \"/home/IITB/ai-at-ieor/23m1508/Shivam_23M1508/Interspeech/data/audio_set_2_chunks/german/chunk_2/wav.scp\"\n",
    "\n",
    "\n",
    "all_german_text_path = [\n",
    "                        german_path_1,\n",
    "                        german_path_2\n",
    "                    ]\n",
    "\n",
    "all_german_wav_path = [\n",
    "                        german_wav_1,\n",
    "                        german_wav_2\n",
    "                    ]"
   ]
  },
  {
   "cell_type": "code",
   "execution_count": 13,
   "id": "55b02aae",
   "metadata": {},
   "outputs": [
    {
     "name": "stdout",
     "output_type": "stream",
     "text": [
      "CSV created\n",
      "CSV created\n"
     ]
    }
   ],
   "source": [
    "for text_path, wav_path in zip(all_german_text_path, all_german_wav_path):\n",
    "    # Extract the chunk number from the text path\n",
    "    chunk_number = text_path.split('/')[-2].split('_')[-1]\n",
    "    \n",
    "    # Define the output CSV path\n",
    "    output_csv_path = f\"/home/IITB/ai-at-ieor/23m1508/Shivam_23M1508/Interspeech/data/audio_set_2_chunks/german/german.csv\"\n",
    "    \n",
    "    # Call the function to create the CSV\n",
    "    make_data(text_path, wav_path, output_csv_path)\n",
    "    print(f\"CSV created\")"
   ]
  },
  {
   "cell_type": "code",
   "execution_count": 14,
   "id": "5568b9a1",
   "metadata": {},
   "outputs": [],
   "source": [
    "import pandas as pd\n",
    "\n",
    "data = pd.read_csv(\"/home/IITB/ai-at-ieor/23m1508/Shivam_23M1508/Interspeech/data/audio_set_2_chunks/german/german.csv\")\n",
    "\n",
    "data['class'] = 'german'\n",
    "\n",
    "data.to_csv(\"/home/IITB/ai-at-ieor/23m1508/Shivam_23M1508/Interspeech/data/audio_set_2_chunks/german/german.csv\", index=False)"
   ]
  },
  {
   "cell_type": "code",
   "execution_count": null,
   "id": "b519436e",
   "metadata": {},
   "outputs": [],
   "source": []
  },
  {
   "cell_type": "markdown",
   "id": "709841f9",
   "metadata": {},
   "source": [
    "### Reading all italian paths"
   ]
  },
  {
   "cell_type": "code",
   "execution_count": 16,
   "id": "6f2fa698",
   "metadata": {},
   "outputs": [],
   "source": [
    "italian_path_1 = \"/home/IITB/ai-at-ieor/23m1508/Shivam_23M1508/Interspeech/data/audio_set_2_chunks/italian/chunk_1/text\"\n",
    "italian_wav_1 = \"/home/IITB/ai-at-ieor/23m1508/Shivam_23M1508/Interspeech/data/audio_set_2_chunks/italian/chunk_1/wav.scp\"\n",
    "\n",
    "italian_path_2 = \"/home/IITB/ai-at-ieor/23m1508/Shivam_23M1508/Interspeech/data/audio_set_2_chunks/italian/chunk_2/text\"\n",
    "italian_wav_2 = \"/home/IITB/ai-at-ieor/23m1508/Shivam_23M1508/Interspeech/data/audio_set_2_chunks/italian/chunk_2/wav.scp\"\n",
    "\n",
    "italian_path_3 = \"/home/IITB/ai-at-ieor/23m1508/Shivam_23M1508/Interspeech/data/audio_set_2_chunks/italian/chunk_3/text\"\n",
    "italian_wav_3 = \"/home/IITB/ai-at-ieor/23m1508/Shivam_23M1508/Interspeech/data/audio_set_2_chunks/italian/chunk_3/wav.scp\""
   ]
  },
  {
   "cell_type": "code",
   "execution_count": 17,
   "id": "7f0bd51b",
   "metadata": {},
   "outputs": [],
   "source": [
    "all_italian_text_path = [\n",
    "                        italian_path_1,\n",
    "                        italian_path_2,\n",
    "                        italian_path_3\n",
    "                    ]\n",
    "\n",
    "all_italian_wav_path = [\n",
    "                        italian_wav_1,\n",
    "                        italian_wav_2,\n",
    "                        italian_wav_3\n",
    "                    ]"
   ]
  },
  {
   "cell_type": "code",
   "execution_count": 18,
   "id": "5677906d",
   "metadata": {},
   "outputs": [
    {
     "name": "stdout",
     "output_type": "stream",
     "text": [
      "CSV created\n",
      "CSV created\n",
      "CSV created\n"
     ]
    }
   ],
   "source": [
    "for text_path, wav_path in zip(all_italian_text_path, all_italian_wav_path):\n",
    "    # Extract the chunk number from the text path\n",
    "    chunk_number = text_path.split('/')[-2].split('_')[-1]\n",
    "    \n",
    "    # Define the output CSV path\n",
    "    output_csv_path = f\"/home/IITB/ai-at-ieor/23m1508/Shivam_23M1508/Interspeech/data/audio_set_2_chunks/italian/italian.csv\"\n",
    "    \n",
    "    # Call the function to create the CSV\n",
    "    make_data(text_path, wav_path, output_csv_path)\n",
    "    print(f\"CSV created\")"
   ]
  },
  {
   "cell_type": "code",
   "execution_count": null,
   "id": "82858fe4",
   "metadata": {},
   "outputs": [],
   "source": [
    "import pandas as pd\n",
    "\n",
    "data = pd.read_csv(\"/home/IITB/ai-at-ieor/23m1508/Shivam_23M1508/Interspeech/data/audio_set_2_chunks/italian/italian.csv\")\n",
    "\n",
    "data['class'] = 'italian'\n",
    "\n",
    "data.to_csv(\"/home/IITB/ai-at-ieor/23m1508/Shivam_23M1508/Interspeech/data/audio_set_2_chunks/italian/italian.csv\", index = False)"
   ]
  },
  {
   "cell_type": "code",
   "execution_count": null,
   "id": "7c2ae546",
   "metadata": {},
   "outputs": [],
   "source": []
  },
  {
   "cell_type": "markdown",
   "id": "abce01b0",
   "metadata": {},
   "source": [
    "### Reading all japanese paths"
   ]
  },
  {
   "cell_type": "code",
   "execution_count": 20,
   "id": "3620d654",
   "metadata": {},
   "outputs": [],
   "source": [
    "japanese_path_1 = \"/home/IITB/ai-at-ieor/23m1508/Shivam_23M1508/Interspeech/data/audio_set_2_chunks/japanese/chunk_1/text\"\n",
    "japanese_wav_1 = \"/home/IITB/ai-at-ieor/23m1508/Shivam_23M1508/Interspeech/data/audio_set_2_chunks/japanese/chunk_1/wav.scp\"\n",
    "\n",
    "japanese_path_2 = \"/home/IITB/ai-at-ieor/23m1508/Shivam_23M1508/Interspeech/data/audio_set_2_chunks/japanese/chunk_2/text\"\n",
    "japanese_wav_2 = \"/home/IITB/ai-at-ieor/23m1508/Shivam_23M1508/Interspeech/data/audio_set_2_chunks/japanese/chunk_2/wav.scp\"\n",
    "\n",
    "japanese_path_3 = \"/home/IITB/ai-at-ieor/23m1508/Shivam_23M1508/Interspeech/data/audio_set_2_chunks/japanese/chunk_3/text\"\n",
    "japanese_wav_3 = \"/home/IITB/ai-at-ieor/23m1508/Shivam_23M1508/Interspeech/data/audio_set_2_chunks/japanese/chunk_3/wav.scp\"\n",
    "\n",
    "\n",
    "all_japanese_text_path = [\n",
    "                            japanese_path_1,\n",
    "                            japanese_path_2,\n",
    "                            japanese_path_3\n",
    "                        ]\n",
    "\n",
    "all_japanese_wav_path = [\n",
    "                        japanese_wav_1,\n",
    "                        japanese_wav_2,\n",
    "                        japanese_wav_3\n",
    "                        ]"
   ]
  },
  {
   "cell_type": "code",
   "execution_count": 21,
   "id": "abebdc87",
   "metadata": {},
   "outputs": [
    {
     "name": "stdout",
     "output_type": "stream",
     "text": [
      "CSV created\n",
      "CSV created\n",
      "CSV created\n"
     ]
    }
   ],
   "source": [
    "for text_path, wav_path in zip(all_japanese_text_path, all_japanese_wav_path):\n",
    "    # Extract the chunk number from the text path\n",
    "    chunk_number = text_path.split('/')[-2].split('_')[-1]\n",
    "    \n",
    "    # Define the output CSV path\n",
    "    output_csv_path = f\"/home/IITB/ai-at-ieor/23m1508/Shivam_23M1508/Interspeech/data/audio_set_2_chunks/japanese/japanese.csv\"\n",
    "    \n",
    "    # Call the function to create the CSV\n",
    "    make_data(text_path, wav_path, output_csv_path)\n",
    "    print(f\"CSV created\")"
   ]
  },
  {
   "cell_type": "code",
   "execution_count": 22,
   "id": "bc901c14",
   "metadata": {},
   "outputs": [],
   "source": [
    "import pandas as pd\n",
    "\n",
    "data = pd.read_csv(\"/home/IITB/ai-at-ieor/23m1508/Shivam_23M1508/Interspeech/data/audio_set_2_chunks/japanese/japanese.csv\")\n",
    "\n",
    "data['class'] = 'japanese'\n",
    "\n",
    "data.to_csv(\"/home/IITB/ai-at-ieor/23m1508/Shivam_23M1508/Interspeech/data/audio_set_2_chunks/japanese/japanese.csv\", index = False)"
   ]
  },
  {
   "cell_type": "code",
   "execution_count": null,
   "id": "28acb142",
   "metadata": {},
   "outputs": [],
   "source": []
  },
  {
   "cell_type": "markdown",
   "id": "48eb139a",
   "metadata": {},
   "source": [
    "### Reading all korean paths"
   ]
  },
  {
   "cell_type": "code",
   "execution_count": 9,
   "id": "5347c065",
   "metadata": {},
   "outputs": [],
   "source": [
    "korean_path_1 = \"/home/IITB/ai-at-ieor/23m1508/Shivam_23M1508/Interspeech/data/audio_set_2_chunks/korean/chunk_1/text\"\n",
    "korean_wav_1 = \"/home/IITB/ai-at-ieor/23m1508/Shivam_23M1508/Interspeech/data/audio_set_2_chunks/korean/chunk_1/wav.scp\"\n",
    "\n",
    "korean_path_2 = \"/home/IITB/ai-at-ieor/23m1508/Shivam_23M1508/Interspeech/data/audio_set_2_chunks/korean/chunk_2/text\"\n",
    "korean_wav_2 = \"/home/IITB/ai-at-ieor/23m1508/Shivam_23M1508/Interspeech/data/audio_set_2_chunks/korean/chunk_2/wav.scp\"\n",
    "\n",
    "korean_path_3 = \"/home/IITB/ai-at-ieor/23m1508/Shivam_23M1508/Interspeech/data/audio_set_2_chunks/korean/chunk_3/text\"\n",
    "korean_wav_3 = \"/home/IITB/ai-at-ieor/23m1508/Shivam_23M1508/Interspeech/data/audio_set_2_chunks/korean/chunk_3/wav.scp\"\n",
    "\n",
    "all_korean_text_path = [\n",
    "                            korean_path_1,\n",
    "                            korean_path_2,\n",
    "                            korean_path_3\n",
    "                        ]\n",
    "\n",
    "all_korean_wav_path = [\n",
    "                            korean_wav_1,\n",
    "                            korean_wav_2,\n",
    "                            korean_wav_3\n",
    "                        ]"
   ]
  },
  {
   "cell_type": "code",
   "execution_count": 10,
   "metadata": {},
   "outputs": [
    {
     "name": "stdout",
     "output_type": "stream",
     "text": [
      "CSV created\n",
      "CSV created\n",
      "CSV created\n"
     ]
    }
   ],
   "source": [
    "for text_path, wav_path in zip(all_korean_text_path, all_korean_wav_path):\n",
    "    # Extract the chunk number from the text path\n",
    "    chunk_number = text_path.split('/')[-2].split('_')[-1]\n",
    "    \n",
    "    # Define the output CSV path\n",
    "    output_csv_path = f\"/home/IITB/ai-at-ieor/23m1508/Shivam_23M1508/Interspeech/data/audio_set_2_chunks/korean/korean.csv\"\n",
    "    \n",
    "    # Call the function to create the CSV\n",
    "    make_data(text_path, wav_path, output_csv_path)\n",
    "    print(f\"CSV created\")"
   ]
  },
  {
   "cell_type": "code",
   "execution_count": 11,
   "metadata": {},
   "outputs": [],
   "source": [
    "import pandas as pd\n",
    "\n",
    "data = pd.read_csv(\"/home/IITB/ai-at-ieor/23m1508/Shivam_23M1508/Interspeech/data/audio_set_2_chunks/korean/korean.csv\")\n",
    "\n",
    "data['class'] = 'korean'\n",
    "\n",
    "data.to_csv(\"/home/IITB/ai-at-ieor/23m1508/Shivam_23M1508/Interspeech/data/audio_set_2_chunks/korean/korean.csv\", index = False)"
   ]
  },
  {
   "cell_type": "code",
   "execution_count": 14,
   "id": "ad765ffa",
   "metadata": {},
   "outputs": [],
   "source": [
    "french = pd.read_csv(\"/home/IITB/ai-at-ieor/23m1508/Shivam_23M1508/Interspeech/data/audio_set_2_chunks/french/french.csv\")\n",
    "german = pd.read_csv(\"/home/IITB/ai-at-ieor/23m1508/Shivam_23M1508/Interspeech/data/audio_set_2_chunks/german/german.csv\")\n",
    "italian = pd.read_csv(\"/home/IITB/ai-at-ieor/23m1508/Shivam_23M1508/Interspeech/data/audio_set_2_chunks/italian/italian.csv\")\n",
    "japanese = pd.read_csv(\"/home/IITB/ai-at-ieor/23m1508/Shivam_23M1508/Interspeech/data/audio_set_2_chunks/japanese/japanese.csv\")\n",
    "korean = pd.read_csv(\"/home/IITB/ai-at-ieor/23m1508/Shivam_23M1508/Interspeech/data/audio_set_2_chunks/korean/korean.csv\")"
   ]
  },
  {
   "cell_type": "code",
   "execution_count": null,
   "id": "7c46c723",
   "metadata": {},
   "outputs": [],
   "source": [
    "combined_data = pd.concat([french, german, italian, japanese, korean], ignore_index = True)"
   ]
  },
  {
   "cell_type": "code",
   "execution_count": 16,
   "id": "69cfc285",
   "metadata": {},
   "outputs": [],
   "source": [
    "combined_csv_path = \"/home/IITB/ai-at-ieor/23m1508/Shivam_23M1508/Interspeech/data/audio_set_2_chunks/set_2_complete.csv\"\n",
    "combined_data.to_csv(combined_csv_path, index = False)"
   ]
  },
  {
   "cell_type": "markdown",
   "id": "b3083c37",
   "metadata": {},
   "source": [
    "### Reading all portuguese paths"
   ]
  },
  {
   "cell_type": "code",
   "execution_count": 17,
   "id": "068a4f31",
   "metadata": {},
   "outputs": [],
   "source": [
    "portuguese_path_1 = \"/home/IITB/ai-at-ieor/23m1508/Shivam_23M1508/Interspeech/data/audio_set_3_chunks/portuguese/chunk_1/text\"\n",
    "portuguese_wav_1 = \"/home/IITB/ai-at-ieor/23m1508/Shivam_23M1508/Interspeech/data/audio_set_3_chunks/portuguese/chunk_1/wav.scp\"\n",
    "\n",
    "portuguese_path_2 = \"/home/IITB/ai-at-ieor/23m1508/Shivam_23M1508/Interspeech/data/audio_set_3_chunks/portuguese/chunk_2/text\"\n",
    "portuguese_wav_2 = \"/home/IITB/ai-at-ieor/23m1508/Shivam_23M1508/Interspeech/data/audio_set_3_chunks/portuguese/chunk_2/wav.scp\""
   ]
  },
  {
   "cell_type": "code",
   "execution_count": 18,
   "id": "724996ae",
   "metadata": {},
   "outputs": [],
   "source": [
    "all_portuguese_text_path = [\n",
    "                            portuguese_path_1,\n",
    "                            portuguese_path_2\n",
    "                            ]\n",
    "\n",
    "all_portuguese_wav_path = [\n",
    "                            portuguese_wav_1,\n",
    "                            portuguese_wav_2\n",
    "                            ]"
   ]
  },
  {
   "cell_type": "code",
   "execution_count": 19,
   "id": "b729f91b",
   "metadata": {},
   "outputs": [
    {
     "name": "stdout",
     "output_type": "stream",
     "text": [
      "CSV created\n",
      "CSV created\n"
     ]
    }
   ],
   "source": [
    "for text_path, wav_path in zip(all_portuguese_text_path, all_portuguese_wav_path):\n",
    "    # Extract the chunk number from the text path\n",
    "    chunk_number = text_path.split('/')[-2].split('_')[-1]\n",
    "    \n",
    "    # Define the output CSV path\n",
    "    output_csv_path = f\"/home/IITB/ai-at-ieor/23m1508/Shivam_23M1508/Interspeech/data/audio_set_3_chunks/portuguese/portuguese.csv\"\n",
    "    \n",
    "    # Call the function to create the CSV\n",
    "    make_data(text_path, wav_path, output_csv_path)\n",
    "    print(f\"CSV created\")"
   ]
  },
  {
   "cell_type": "code",
   "execution_count": 20,
   "id": "37042d00",
   "metadata": {},
   "outputs": [],
   "source": [
    "import pandas as pd\n",
    "\n",
    "data = pd.read_csv(\"/home/IITB/ai-at-ieor/23m1508/Shivam_23M1508/Interspeech/data/audio_set_3_chunks/portuguese/portuguese.csv\")\n",
    "\n",
    "data['class'] = 'portuguese'\n",
    "\n",
    "data.to_csv(\"/home/IITB/ai-at-ieor/23m1508/Shivam_23M1508/Interspeech/data/audio_set_3_chunks/portuguese/portuguese.csv\", index = False)"
   ]
  },
  {
   "cell_type": "code",
   "execution_count": null,
   "id": "4d73209e",
   "metadata": {},
   "outputs": [],
   "source": []
  },
  {
   "cell_type": "markdown",
   "id": "8da325a5",
   "metadata": {},
   "source": [
    "### Reading all russian paths"
   ]
  },
  {
   "cell_type": "code",
   "execution_count": 21,
   "id": "e41f492c",
   "metadata": {},
   "outputs": [
    {
     "name": "stdout",
     "output_type": "stream",
     "text": [
      "CSV created\n",
      "CSV created\n"
     ]
    }
   ],
   "source": [
    "russian_path_1 = \"/home/IITB/ai-at-ieor/23m1508/Shivam_23M1508/Interspeech/data/audio_set_3_chunks/russian/chunk_1/text\"\n",
    "russian_wav_1 = \"/home/IITB/ai-at-ieor/23m1508/Shivam_23M1508/Interspeech/data/audio_set_3_chunks/russian/chunk_1/wav.scp\"\n",
    "\n",
    "\n",
    "russian_path_2 = \"/home/IITB/ai-at-ieor/23m1508/Shivam_23M1508/Interspeech/data/audio_set_3_chunks/russian/chunk_2/text\"\n",
    "russian_wav_2 = \"/home/IITB/ai-at-ieor/23m1508/Shivam_23M1508/Interspeech/data/audio_set_3_chunks/russian/chunk_2/wav.scp\"\n",
    "\n",
    "\n",
    "all_russian_text_path = [\n",
    "                            russian_path_1,\n",
    "                            russian_path_2\n",
    "                            ]\n",
    "\n",
    "\n",
    "all_russian_wav_path = [\n",
    "                            russian_wav_1,\n",
    "                            russian_wav_2\n",
    "                            ]\n",
    "\n",
    "\n",
    "for text_path, wav_path in zip(all_russian_text_path, all_russian_wav_path):\n",
    "    # Extract the chunk number from the text path\n",
    "    chunk_number = text_path.split('/')[-2].split('_')[-1]\n",
    "    \n",
    "    # Define the output CSV path\n",
    "    output_csv_path = f\"/home/IITB/ai-at-ieor/23m1508/Shivam_23M1508/Interspeech/data/audio_set_3_chunks/russian/russian.csv\"\n",
    "    \n",
    "    # Call the function to create the CSV\n",
    "    make_data(text_path, wav_path, output_csv_path)\n",
    "    print(f\"CSV created\")\n",
    "    \n",
    "import pandas as pd\n",
    "\n",
    "data = pd.read_csv(\"/home/IITB/ai-at-ieor/23m1508/Shivam_23M1508/Interspeech/data/audio_set_3_chunks/russian/russian.csv\")\n",
    "\n",
    "data['class'] = 'russian'\n",
    "\n",
    "data.to_csv(\"/home/IITB/ai-at-ieor/23m1508/Shivam_23M1508/Interspeech/data/audio_set_3_chunks/russian/russian.csv\", index = False)"
   ]
  },
  {
   "cell_type": "markdown",
   "id": "d114f91f",
   "metadata": {},
   "source": [
    "### Reading all spanish paths"
   ]
  },
  {
   "cell_type": "code",
   "execution_count": 22,
   "id": "9de97c28",
   "metadata": {},
   "outputs": [
    {
     "name": "stdout",
     "output_type": "stream",
     "text": [
      "CSV created\n",
      "CSV created\n"
     ]
    }
   ],
   "source": [
    "spanish_path_1 = \"/home/IITB/ai-at-ieor/23m1508/Shivam_23M1508/Interspeech/data/audio_set_3_chunks/spanish/chunk_1/text\"\n",
    "spanish_wav_1 = \"/home/IITB/ai-at-ieor/23m1508/Shivam_23M1508/Interspeech/data/audio_set_3_chunks/spanish/chunk_1/wav.scp\"\n",
    "\n",
    "\n",
    "spanish_path_2 = \"/home/IITB/ai-at-ieor/23m1508/Shivam_23M1508/Interspeech/data/audio_set_3_chunks/spanish/chunk_2/text\"\n",
    "spanish_wav_2 = \"/home/IITB/ai-at-ieor/23m1508/Shivam_23M1508/Interspeech/data/audio_set_3_chunks/spanish/chunk_2/wav.scp\"\n",
    "\n",
    "\n",
    "all_spanish_text_path = [\n",
    "                            spanish_path_1,\n",
    "                            spanish_path_2\n",
    "                            ]\n",
    "\n",
    "\n",
    "all_spanish_wav_path = [\n",
    "                            spanish_wav_1,\n",
    "                            spanish_wav_2\n",
    "                            ]\n",
    "\n",
    "\n",
    "for text_path, wav_path in zip(all_spanish_text_path, all_spanish_wav_path):\n",
    "    # Extract the chunk number from the text path\n",
    "    chunk_number = text_path.split('/')[-2].split('_')[-1]\n",
    "    \n",
    "    # Define the output CSV path\n",
    "    output_csv_path = f\"/home/IITB/ai-at-ieor/23m1508/Shivam_23M1508/Interspeech/data/audio_set_3_chunks/spanish/spanish.csv\"\n",
    "    \n",
    "    # Call the function to create the CSV\n",
    "    make_data(text_path, wav_path, output_csv_path)\n",
    "    print(f\"CSV created\")\n",
    "    \n",
    "import pandas as pd\n",
    "\n",
    "data = pd.read_csv(\"/home/IITB/ai-at-ieor/23m1508/Shivam_23M1508/Interspeech/data/audio_set_3_chunks/spanish/spanish.csv\")\n",
    "\n",
    "data['class'] = 'spanish'\n",
    "\n",
    "data.to_csv(\"/home/IITB/ai-at-ieor/23m1508/Shivam_23M1508/Interspeech/data/audio_set_3_chunks/spanish/spanish.csv\", index = False)"
   ]
  },
  {
   "cell_type": "markdown",
   "id": "0680cfab",
   "metadata": {},
   "source": [
    "### Reading all thai paths"
   ]
  },
  {
   "cell_type": "code",
   "execution_count": 23,
   "id": "3cd35c76",
   "metadata": {},
   "outputs": [
    {
     "name": "stdout",
     "output_type": "stream",
     "text": [
      "CSV created\n",
      "CSV created\n"
     ]
    }
   ],
   "source": [
    "thai_path_1 = \"/home/IITB/ai-at-ieor/23m1508/Shivam_23M1508/Interspeech/data/audio_set_3_chunks/thai/chunk_1/text\"\n",
    "thai_wav_1 = \"/home/IITB/ai-at-ieor/23m1508/Shivam_23M1508/Interspeech/data/audio_set_3_chunks/thai/chunk_1/wav.scp\"\n",
    "\n",
    "\n",
    "thai_path_2 = \"/home/IITB/ai-at-ieor/23m1508/Shivam_23M1508/Interspeech/data/audio_set_3_chunks/thai/chunk_2/text\"\n",
    "thai_wav_2 = \"/home/IITB/ai-at-ieor/23m1508/Shivam_23M1508/Interspeech/data/audio_set_3_chunks/thai/chunk_2/wav.scp\"\n",
    "\n",
    "\n",
    "all_thai_text_path = [\n",
    "                            thai_path_1,\n",
    "                            thai_path_2\n",
    "                            ]\n",
    "\n",
    "\n",
    "all_thai_wav_path = [\n",
    "                            thai_wav_1,\n",
    "                            thai_wav_2\n",
    "                            ]\n",
    "\n",
    "\n",
    "for text_path, wav_path in zip(all_thai_text_path, all_thai_wav_path):\n",
    "    # Extract the chunk number from the text path\n",
    "    chunk_number = text_path.split('/')[-2].split('_')[-1]\n",
    "    \n",
    "    # Define the output CSV path\n",
    "    output_csv_path = f\"/home/IITB/ai-at-ieor/23m1508/Shivam_23M1508/Interspeech/data/audio_set_3_chunks/thai/thai.csv\"\n",
    "    \n",
    "    # Call the function to create the CSV\n",
    "    make_data(text_path, wav_path, output_csv_path)\n",
    "    print(f\"CSV created\")\n",
    "    \n",
    "\n",
    "import pandas as pd\n",
    "\n",
    "data = pd.read_csv(\"/home/IITB/ai-at-ieor/23m1508/Shivam_23M1508/Interspeech/data/audio_set_3_chunks/thai/thai.csv\")\n",
    "\n",
    "data['class'] = 'thai'\n",
    "\n",
    "data.to_csv(\"/home/IITB/ai-at-ieor/23m1508/Shivam_23M1508/Interspeech/data/audio_set_3_chunks/thai/thai.csv\", index = False)"
   ]
  },
  {
   "cell_type": "markdown",
   "id": "dca6c605",
   "metadata": {},
   "source": [
    "### Reading all vietnamese paths"
   ]
  },
  {
   "cell_type": "code",
   "execution_count": 24,
   "metadata": {},
   "outputs": [
    {
     "name": "stdout",
     "output_type": "stream",
     "text": [
      "CSV created\n",
      "CSV created\n"
     ]
    }
   ],
   "source": [
    "vietnamese_path_1 = \"/home/IITB/ai-at-ieor/23m1508/Shivam_23M1508/Interspeech/data/audio_set_3_chunks/vietnamese/chunk_1/text\"\n",
    "vietnamese_wav_1 = \"/home/IITB/ai-at-ieor/23m1508/Shivam_23M1508/Interspeech/data/audio_set_3_chunks/vietnamese/chunk_1/wav.scp\"\n",
    "\n",
    "\n",
    "vietnamese_path_2 = \"/home/IITB/ai-at-ieor/23m1508/Shivam_23M1508/Interspeech/data/audio_set_3_chunks/vietnamese/chunk_2/text\"\n",
    "vietnamese_wav_2 = \"/home/IITB/ai-at-ieor/23m1508/Shivam_23M1508/Interspeech/data/audio_set_3_chunks/vietnamese/chunk_2/wav.scp\"\n",
    "\n",
    "\n",
    "all_vietnamese_text_path = [\n",
    "                            vietnamese_path_1,\n",
    "                            vietnamese_path_2\n",
    "                            ]\n",
    "\n",
    "\n",
    "all_vietnamese_wav_path = [\n",
    "                            vietnamese_wav_1,\n",
    "                            vietnamese_wav_2\n",
    "                            ]\n",
    "\n",
    "\n",
    "for text_path, wav_path in zip(all_vietnamese_text_path, all_vietnamese_wav_path):\n",
    "    # Extract the chunk number from the text path\n",
    "    chunk_number = text_path.split('/')[-2].split('_')[-1]\n",
    "    \n",
    "    # Define the output CSV path\n",
    "    output_csv_path = f\"/home/IITB/ai-at-ieor/23m1508/Shivam_23M1508/Interspeech/data/audio_set_3_chunks/vietnamese/vietnamese.csv\"\n",
    "    \n",
    "    # Call the function to create the CSV\n",
    "    make_data(text_path, wav_path, output_csv_path)\n",
    "    print(f\"CSV created\")\n",
    "    \n",
    "\n",
    "import pandas as pd\n",
    "\n",
    "data = pd.read_csv(\"/home/IITB/ai-at-ieor/23m1508/Shivam_23M1508/Interspeech/data/audio_set_3_chunks/vietnamese/vietnamese.csv\")\n",
    "\n",
    "data['class'] = 'vietnamese'\n",
    "\n",
    "data.to_csv(\"/home/IITB/ai-at-ieor/23m1508/Shivam_23M1508/Interspeech/data/audio_set_3_chunks/vietnamese/vietnamese.csv\", index = False)"
   ]
  },
  {
   "cell_type": "code",
   "execution_count": 26,
   "id": "9dd2c92d",
   "metadata": {},
   "outputs": [],
   "source": [
    "portuguese = pd.read_csv(\"/home/IITB/ai-at-ieor/23m1508/Shivam_23M1508/Interspeech/data/audio_set_3_chunks/portuguese/portuguese.csv\")\n",
    "russian = pd.read_csv(\"/home/IITB/ai-at-ieor/23m1508/Shivam_23M1508/Interspeech/data/audio_set_3_chunks/russian/russian.csv\")\n",
    "spanish = pd.read_csv(\"/home/IITB/ai-at-ieor/23m1508/Shivam_23M1508/Interspeech/data/audio_set_3_chunks/spanish/spanish.csv\")\n",
    "thai = pd.read_csv(\"/home/IITB/ai-at-ieor/23m1508/Shivam_23M1508/Interspeech/data/audio_set_3_chunks/thai/thai.csv\")\n",
    "vietnamese = pd.read_csv(\"/home/IITB/ai-at-ieor/23m1508/Shivam_23M1508/Interspeech/data/audio_set_3_chunks/vietnamese/vietnamese.csv\")"
   ]
  },
  {
   "cell_type": "code",
   "execution_count": 27,
   "id": "2ee1e810",
   "metadata": {},
   "outputs": [],
   "source": [
    "combined_data = pd.concat([portuguese, russian, spanish, thai, vietnamese], ignore_index = True)\n",
    "combined_csv_path = \"/home/IITB/ai-at-ieor/23m1508/Shivam_23M1508/Interspeech/data/audio_set_3_chunks/set_3_complete.csv\"\n",
    "combined_data.to_csv(combined_csv_path, index = False)"
   ]
  },
  {
   "cell_type": "markdown",
   "id": "e983fb9e",
   "metadata": {},
   "source": [
    "### Combined data from set1 and set2 and set3"
   ]
  },
  {
   "cell_type": "code",
   "execution_count": 28,
   "id": "41511de1",
   "metadata": {},
   "outputs": [],
   "source": [
    "data_set1 = pd.read_csv(\"/home/IITB/ai-at-ieor/23m1508/Shivam_23M1508/Interspeech/data/audio_set_1_chunks/set_1_complete.csv\")\n",
    "data_set2 = pd.read_csv(\"/home/IITB/ai-at-ieor/23m1508/Shivam_23M1508/Interspeech/data/audio_set_2_chunks/set_2_complete.csv\")\n",
    "data_set3 = pd.read_csv(\"/home/IITB/ai-at-ieor/23m1508/Shivam_23M1508/Interspeech/data/audio_set_3_chunks/set_3_complete.csv\")"
   ]
  },
  {
   "cell_type": "code",
   "execution_count": 29,
   "id": "644342c1",
   "metadata": {},
   "outputs": [],
   "source": [
    "combined_data = pd.concat([data_set1, data_set2, data_set3], ignore_index = True)\n",
    "\n",
    "combined_csv_path = \"/home/IITB/ai-at-ieor/23m1508/Shivam_23M1508/Interspeech/data/set1_set2_set3_combined.csv\"\n",
    "combined_data.to_csv(combined_csv_path, index = False)"
   ]
  },
  {
   "cell_type": "code",
   "execution_count": null,
   "id": "322de4f6",
   "metadata": {},
   "outputs": [],
   "source": []
  },
  {
   "cell_type": "code",
   "execution_count": null,
   "id": "873c2883",
   "metadata": {},
   "outputs": [],
   "source": []
  },
  {
   "cell_type": "code",
   "execution_count": null,
   "id": "b5b3a151",
   "metadata": {},
   "outputs": [],
   "source": []
  },
  {
   "cell_type": "markdown",
   "id": "0199142d",
   "metadata": {},
   "source": [
    "### Replace the paths of the original path with the scratch."
   ]
  },
  {
   "cell_type": "code",
   "execution_count": 1,
   "id": "5004b62f",
   "metadata": {},
   "outputs": [],
   "source": [
    "import pandas as pd"
   ]
  },
  {
   "cell_type": "code",
   "execution_count": null,
   "id": "0628569b",
   "metadata": {},
   "outputs": [],
   "source": []
  },
  {
   "cell_type": "code",
   "execution_count": 2,
   "id": "06b10967",
   "metadata": {},
   "outputs": [],
   "source": [
    "final_data = pd.read_csv('/home/IITB/ai-at-ieor/23m1508/Shivam_23M1508/Interspeech/data/balanced_shuffled_data.csv')"
   ]
  },
  {
   "cell_type": "code",
   "execution_count": 4,
   "id": "205ae5bb",
   "metadata": {},
   "outputs": [
    {
     "data": {
      "text/plain": [
       "'/home/IITB/ai-at-ieor/23m1508/Shivam_23M1508/Interspeech/data/audio_set_1_chunks/chunk_6/English-American-0029-0029_002-O1-129573-129945.wav'"
      ]
     },
     "execution_count": 4,
     "metadata": {},
     "output_type": "execute_result"
    }
   ],
   "source": [
    "final_data.loc[0, 'Path']"
   ]
  },
  {
   "cell_type": "code",
   "execution_count": 5,
   "id": "28fe0bbe",
   "metadata": {},
   "outputs": [
    {
     "data": {
      "text/plain": [
       "'/home/IITB/ai-at-ieor/23m1508/Shivam_23M1508/Interspeech/data/audio_set_1_chunks/chunk_6/English-American-0029-0029_002-O1-129573-129945.wav'"
      ]
     },
     "execution_count": 5,
     "metadata": {},
     "output_type": "execute_result"
    }
   ],
   "source": [
    "'/home/IITB/ai-at-ieor/23m1508/Shivam_23M1508/Interspeech/data/audio_set_1_chunks/chunk_6/English-American-0029-0029_002-O1-129573-129945.wav'"
   ]
  },
  {
   "cell_type": "code",
   "execution_count": 7,
   "id": "9a566442",
   "metadata": {},
   "outputs": [
    {
     "data": {
      "text/plain": [
       "'/scratch/IITB/ai-at-ieor/23m1508/23m1508_backup/audio_set_1_chunks/chunk_6/English-American-0029-0029_002-O1-129573-129945.wav'"
      ]
     },
     "execution_count": 7,
     "metadata": {},
     "output_type": "execute_result"
    }
   ],
   "source": [
    "'/scratch/IITB/ai-at-ieor/23m1508/23m1508_backup/audio_set_1_chunks/chunk_6/English-American-0029-0029_002-O1-129573-129945.wav'"
   ]
  },
  {
   "cell_type": "code",
   "execution_count": 9,
   "id": "8a2801b8",
   "metadata": {},
   "outputs": [],
   "source": [
    "final_data['Path'] = final_data['Path'].apply(lambda x: x.replace(\n",
    "    \"/home/IITB/ai-at-ieor/23m1508/Shivam_23M1508/Interspeech/data\",\n",
    "    \"/scratch/IITB/ai-at-ieor/23m1508/23m1508_backup\"\n",
    "))\n"
   ]
  },
  {
   "cell_type": "code",
   "execution_count": 19,
   "id": "5fc50ea1",
   "metadata": {},
   "outputs": [
    {
     "data": {
      "text/plain": [
       "['0203-0203_005-O2-092652-092741',\n",
       " '어떻게 해?',\n",
       " '/scratch/IITB/ai-at-ieor/23m1508/23m1508_backup/audio_set_2_chunks/korean/chunk_1/0203-0203_005-O2-092652-092741.wav',\n",
       " 'korean']"
      ]
     },
     "execution_count": 19,
     "metadata": {},
     "output_type": "execute_result"
    }
   ],
   "source": [
    "final_data.iloc[17880, :].tolist()"
   ]
  },
  {
   "cell_type": "code",
   "execution_count": 21,
   "id": "d95b5de3",
   "metadata": {},
   "outputs": [
    {
     "data": {
      "text/plain": [
       "(1398574, 4)"
      ]
     },
     "execution_count": 21,
     "metadata": {},
     "output_type": "execute_result"
    }
   ],
   "source": [
    "final_data.shape"
   ]
  },
  {
   "cell_type": "code",
   "execution_count": 20,
   "id": "20220766",
   "metadata": {},
   "outputs": [],
   "source": [
    "final_data.to_csv('/home/IITB/ai-at-ieor/23m1508/Shivam_23M1508/Interspeech/data/scratch_balanced_shuffled_data.csv', index = False)"
   ]
  },
  {
   "cell_type": "code",
   "execution_count": 22,
   "id": "3ada8a02",
   "metadata": {},
   "outputs": [],
   "source": [
    "a = pd.read_csv('/home/IITB/ai-at-ieor/23m1508/Shivam_23M1508/Interspeech/data/scratch_balanced_shuffled_data.csv')"
   ]
  },
  {
   "cell_type": "code",
   "execution_count": 23,
   "id": "86c72ef6",
   "metadata": {},
   "outputs": [
    {
     "data": {
      "text/plain": [
       "(1398574, 4)"
      ]
     },
     "execution_count": 23,
     "metadata": {},
     "output_type": "execute_result"
    }
   ],
   "source": [
    "a.shape"
   ]
  }
 ],
 "metadata": {
  "kernelspec": {
   "display_name": "shivam_env",
   "language": "python",
   "name": "python3"
  },
  "language_info": {
   "codemirror_mode": {
    "name": "ipython",
    "version": 3
   },
   "file_extension": ".py",
   "mimetype": "text/x-python",
   "name": "python",
   "nbconvert_exporter": "python",
   "pygments_lexer": "ipython3",
   "version": "3.13.2"
  }
 },
 "nbformat": 4,
 "nbformat_minor": 5
}
