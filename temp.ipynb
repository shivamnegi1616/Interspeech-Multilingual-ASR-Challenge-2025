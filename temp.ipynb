{
 "cells": [
  {
   "cell_type": "code",
   "execution_count": 1,
   "id": "dbf76a54",
   "metadata": {},
   "outputs": [],
   "source": [
    "import soundfile as sf\n",
    "import os\n",
    "from tqdm import tqdm\n",
    "import argparse"
   ]
  },
  {
   "cell_type": "code",
   "execution_count": 2,
   "metadata": {},
   "outputs": [],
   "source": [
    "def split_audio(segments_file, output_dir):\n",
    "    if not os.path.exists(output_dir):\n",
    "        os.makedirs(output_dir)\n",
    "\n",
    "    with open(segments_file, 'r', encoding='utf-8') as f:\n",
    "        lines = f.readlines()\n",
    "\n",
    "    wav_scp_path = os.path.join(output_dir, 'wav.scp')\n",
    "    text_path = os.path.join(output_dir, 'text')\n",
    "    \n",
    "    with open(wav_scp_path, 'w', encoding='utf-8') as wav_scp_file, open(text_path, 'w', encoding='utf-8') as text_file:\n",
    "        for line in tqdm(lines, desc=\"Processing\", unit=\"wavs\"):\n",
    "            parts = line.strip().split()\n",
    "            record_id = parts[0]\n",
    "            wav_path = parts[1]\n",
    "            start_time = float(parts[2])\n",
    "            end_time = float(parts[3])\n",
    "            gt_text = ' '.join(parts[4:])\n",
    "\n",
    "            try:\n",
    "                audio_data, sample_rate = sf.read(wav_path)\n",
    "                start_sample = int(start_time * sample_rate)\n",
    "                end_sample = int(end_time * sample_rate)\n",
    "                segment = audio_data[start_sample:end_sample]\n",
    "                output_path = os.path.join(output_dir, f\"{record_id}.wav\")\n",
    "                sf.write(output_path, segment, sample_rate)\n",
    "                # print(f\"Saving {record_id}.wav\")\n",
    "                wav_scp_file.write(f\"{record_id} {output_path}\\n\")\n",
    "                text_file.write(f\"{record_id} {gt_text}\\n\")\n",
    "            except Exception as e:\n",
    "                print(f\"Error in saving {record_id}: {e}\")"
   ]
  },
  {
   "cell_type": "code",
   "execution_count": null,
   "id": "c5aca3ba",
   "metadata": {},
   "outputs": [],
   "source": [
    "import os\n",
    "from multiprocessing import Pool, cpu_count\n",
    "\n",
    "\n",
    "# segments_path = \"/home/IITB/ai-at-ieor/23m1508/Shivam_23M1508/Interspeech/data/data_csv/segments_path.txt\"\n",
    "# base_output_dir = \"/home/IITB/ai-at-ieor/23m1508/Shivam_23M1508/Interspeech/data/audio_set_1_chunks\"\n",
    "# temp_dir = \"/home/IITB/ai-at-ieor/23m1508/Shivam_23M1508/Interspeech/data/temp\"\n",
    "\n",
    "\n",
    "\n",
    "# segments_path = \"/home/IITB/ai-at-ieor/23m1508/Shivam_23M1508/Interspeech/data/data_csv/segments_path_french.txt\"\n",
    "# base_output_dir = \"/home/IITB/ai-at-ieor/23m1508/Shivam_23M1508/Interspeech/data/audio_set_2_chunks/french\"\n",
    "# temp_dir = \"/home/IITB/ai-at-ieor/23m1508/Shivam_23M1508/Interspeech/data/temp\"\n",
    "\n",
    "\n",
    "\n",
    "\n",
    "# segments_path = \"/home/IITB/ai-at-ieor/23m1508/Shivam_23M1508/Interspeech/data/data_csv/segments_path_german.txt\"\n",
    "# base_output_dir = \"/home/IITB/ai-at-ieor/23m1508/Shivam_23M1508/Interspeech/data/audio_set_2_chunks/german\"\n",
    "# temp_dir = \"/home/IITB/ai-at-ieor/23m1508/Shivam_23M1508/Interspeech/data/temp\"\n",
    "\n",
    "\n",
    "\n",
    "segments_path = \"/home/IITB/ai-at-ieor/23m1508/Shivam_23M1508/Interspeech/data/data_csv/segments_path_russian.txt\"\n",
    "base_output_dir = \"/home/IITB/ai-at-ieor/23m1508/Shivam_23M1508/Interspeech/data/audio_set_3_chunks/russian\"\n",
    "temp_dir = \"/home/IITB/ai-at-ieor/23m1508/Shivam_23M1508/Interspeech/data/temp/russian\"\n",
    "\n",
    "\n",
    "\n",
    "\n",
    "\n",
    "\n",
    "# Ensure temp directory exists\n",
    "os.makedirs(temp_dir, exist_ok=True)\n",
    "\n",
    "chunk_size = 50000\n",
    "\n",
    "# Read lines\n",
    "with open(segments_path, 'r') as file:\n",
    "    lines = file.readlines()\n",
    "\n",
    "total_chunks = len(lines) // chunk_size + (1 if len(lines) % chunk_size != 0 else 0)\n",
    "\n",
    "# Prepare job arguments\n",
    "jobs = []\n",
    "\n",
    "for i in range(total_chunks):\n",
    "    start = i * chunk_size\n",
    "    end = start + chunk_size\n",
    "    chunk_lines = lines[start:end]\n",
    "\n",
    "    temp_path = os.path.join(temp_dir, f\"chunk_{i+1}.txt\")\n",
    "    with open(temp_path, 'w') as f:\n",
    "        f.writelines(chunk_lines)\n",
    "\n",
    "    output_dir = os.path.join(base_output_dir, f\"chunk_{i+1}\")\n",
    "    os.makedirs(output_dir, exist_ok=True)\n",
    "    jobs.append((temp_path, output_dir))\n",
    "\n",
    "# Function wrapper for multiprocessing\n",
    "\n",
    "def run_split_audio(args):\n",
    "    segment_path, out_dir = args\n",
    "    split_audio(segment_path, out_dir)"
   ]
  },
  {
   "cell_type": "code",
   "execution_count": 13,
   "id": "329b092f",
   "metadata": {},
   "outputs": [
    {
     "data": {
      "text/plain": [
       "[('/home/IITB/ai-at-ieor/23m1508/Shivam_23M1508/Interspeech/data/temp/spanish/chunk_1.txt',\n",
       "  '/home/IITB/ai-at-ieor/23m1508/Shivam_23M1508/Interspeech/data/audio_set_3_chunks/spanish/chunk_1'),\n",
       " ('/home/IITB/ai-at-ieor/23m1508/Shivam_23M1508/Interspeech/data/temp/spanish/chunk_2.txt',\n",
       "  '/home/IITB/ai-at-ieor/23m1508/Shivam_23M1508/Interspeech/data/audio_set_3_chunks/spanish/chunk_2')]"
      ]
     },
     "execution_count": 13,
     "metadata": {},
     "output_type": "execute_result"
    }
   ],
   "source": [
    "jobs"
   ]
  },
  {
   "cell_type": "code",
   "execution_count": 14,
   "id": "46c99eaf",
   "metadata": {},
   "outputs": [
    {
     "name": "stderr",
     "output_type": "stream",
     "text": [
      "Processing: 100%|██████████| 44006/44006 [1:24:15<00:00,  8.70wavs/s]\n",
      "Processing: 100%|██████████| 50000/50000 [1:36:57<00:00,  8.60wavs/s]\n"
     ]
    }
   ],
   "source": [
    "with Pool(cpu_count()) as pool:\n",
    "    pool.map(run_split_audio, jobs)"
   ]
  },
  {
   "cell_type": "code",
   "execution_count": 19,
   "id": "aeb69450",
   "metadata": {},
   "outputs": [
    {
     "data": {
      "text/plain": [
       "94010"
      ]
     },
     "execution_count": 19,
     "metadata": {},
     "output_type": "execute_result"
    }
   ],
   "source": [
    "import os\n",
    "\n",
    "folder_path_1 = \"/home/IITB/ai-at-ieor/23m1508/Shivam_23M1508/Interspeech/data/audio_set_3_chunks/spanish/chunk_1\"\n",
    "\n",
    "folder_path_2 = \"/home/IITB/ai-at-ieor/23m1508/Shivam_23M1508/Interspeech/data/audio_set_3_chunks/spanish/chunk_2\"\n",
    "\n",
    "len(os.listdir(folder_path_1)) + len(os.listdir(folder_path_2))"
   ]
  },
  {
   "cell_type": "code",
   "execution_count": null,
   "id": "e91e9430",
   "metadata": {},
   "outputs": [],
   "source": []
  },
  {
   "cell_type": "markdown",
   "id": "f5333b6c",
   "metadata": {},
   "source": [
    "### Check for if every audio is present in the scratch folder or not"
   ]
  },
  {
   "cell_type": "code",
   "execution_count": 2,
   "id": "74074d31",
   "metadata": {},
   "outputs": [],
   "source": [
    "import pandas as pd\n",
    "import os"
   ]
  },
  {
   "cell_type": "code",
   "execution_count": 3,
   "id": "a570e341",
   "metadata": {},
   "outputs": [],
   "source": [
    "scratch_data = pd.read_csv(\"/home/IITB/ai-at-ieor/23m1508/Shivam_23M1508/Interspeech/data/scratch_balanced_shuffled_data.csv\")"
   ]
  },
  {
   "cell_type": "code",
   "execution_count": 4,
   "id": "62779ca6",
   "metadata": {},
   "outputs": [
    {
     "data": {
      "text/html": [
       "<div>\n",
       "<style scoped>\n",
       "    .dataframe tbody tr th:only-of-type {\n",
       "        vertical-align: middle;\n",
       "    }\n",
       "\n",
       "    .dataframe tbody tr th {\n",
       "        vertical-align: top;\n",
       "    }\n",
       "\n",
       "    .dataframe thead th {\n",
       "        text-align: right;\n",
       "    }\n",
       "</style>\n",
       "<table border=\"1\" class=\"dataframe\">\n",
       "  <thead>\n",
       "    <tr style=\"text-align: right;\">\n",
       "      <th></th>\n",
       "      <th>ID</th>\n",
       "      <th>Text</th>\n",
       "      <th>Path</th>\n",
       "      <th>class</th>\n",
       "    </tr>\n",
       "  </thead>\n",
       "  <tbody>\n",
       "    <tr>\n",
       "      <th>0</th>\n",
       "      <td>English-American-0029-0029_002-O1-129573-129945</td>\n",
       "      <td>Is my um way of bringing back memories.</td>\n",
       "      <td>/scratch/IITB/ai-at-ieor/23m1508/23m1508_backu...</td>\n",
       "      <td>english</td>\n",
       "    </tr>\n",
       "    <tr>\n",
       "      <th>1</th>\n",
       "      <td>0122-0122_005_phone-O1-001562-002014</td>\n",
       "      <td>Antes as pessoas começaram por ir ao teatro, n...</td>\n",
       "      <td>/scratch/IITB/ai-at-ieor/23m1508/23m1508_backu...</td>\n",
       "      <td>portuguese</td>\n",
       "    </tr>\n",
       "    <tr>\n",
       "      <th>2</th>\n",
       "      <td>0003-0003_005-O2-049763-050186</td>\n",
       "      <td>다은이 나오고 그날 유미랑 만나는 거 다은이랑 유미랑 만나는 거.</td>\n",
       "      <td>/scratch/IITB/ai-at-ieor/23m1508/23m1508_backu...</td>\n",
       "      <td>korean</td>\n",
       "    </tr>\n",
       "    <tr>\n",
       "      <th>3</th>\n",
       "      <td>0110-0110_003_phone-O2-033851-034374</td>\n",
       "      <td>sehr, sehr viel sehen in hmm weniger oder auch...</td>\n",
       "      <td>/scratch/IITB/ai-at-ieor/23m1508/23m1508_backu...</td>\n",
       "      <td>german</td>\n",
       "    </tr>\n",
       "    <tr>\n",
       "      <th>4</th>\n",
       "      <td>English-American-0055-0055_004-O2-177931-178327</td>\n",
       "      <td>Well, as I mentioned a minute ago, uh I travel...</td>\n",
       "      <td>/scratch/IITB/ai-at-ieor/23m1508/23m1508_backu...</td>\n",
       "      <td>english</td>\n",
       "    </tr>\n",
       "    <tr>\n",
       "      <th>...</th>\n",
       "      <td>...</td>\n",
       "      <td>...</td>\n",
       "      <td>...</td>\n",
       "      <td>...</td>\n",
       "    </tr>\n",
       "    <tr>\n",
       "      <th>1398569</th>\n",
       "      <td>English-Filipino-00211-00211_002_phone-O2-1187...</td>\n",
       "      <td>And it's not just humans who appreciate flowers.</td>\n",
       "      <td>/scratch/IITB/ai-at-ieor/23m1508/23m1508_backu...</td>\n",
       "      <td>english</td>\n",
       "    </tr>\n",
       "    <tr>\n",
       "      <th>1398570</th>\n",
       "      <td>English-American-0316-0316_002-O1-138564-138826</td>\n",
       "      <td>And it was so boring.</td>\n",
       "      <td>/scratch/IITB/ai-at-ieor/23m1508/23m1508_backu...</td>\n",
       "      <td>english</td>\n",
       "    </tr>\n",
       "    <tr>\n",
       "      <th>1398571</th>\n",
       "      <td>English-British-0152-0152_002_phone-O2-010248-...</td>\n",
       "      <td>Qatar did an amazing job with the stadiums.</td>\n",
       "      <td>/scratch/IITB/ai-at-ieor/23m1508/23m1508_backu...</td>\n",
       "      <td>english</td>\n",
       "    </tr>\n",
       "    <tr>\n",
       "      <th>1398572</th>\n",
       "      <td>English-American-0322-0322_005-O1-002448-002623</td>\n",
       "      <td>I do, um.</td>\n",
       "      <td>/scratch/IITB/ai-at-ieor/23m1508/23m1508_backu...</td>\n",
       "      <td>english</td>\n",
       "    </tr>\n",
       "    <tr>\n",
       "      <th>1398573</th>\n",
       "      <td>English-Filipino-00307-00307_003_phone-O1-0938...</td>\n",
       "      <td>I couldn't agree more. Our upcoming foodie out...</td>\n",
       "      <td>/scratch/IITB/ai-at-ieor/23m1508/23m1508_backu...</td>\n",
       "      <td>english</td>\n",
       "    </tr>\n",
       "  </tbody>\n",
       "</table>\n",
       "<p>1398574 rows × 4 columns</p>\n",
       "</div>"
      ],
      "text/plain": [
       "                                                        ID  \\\n",
       "0          English-American-0029-0029_002-O1-129573-129945   \n",
       "1                     0122-0122_005_phone-O1-001562-002014   \n",
       "2                           0003-0003_005-O2-049763-050186   \n",
       "3                     0110-0110_003_phone-O2-033851-034374   \n",
       "4          English-American-0055-0055_004-O2-177931-178327   \n",
       "...                                                    ...   \n",
       "1398569  English-Filipino-00211-00211_002_phone-O2-1187...   \n",
       "1398570    English-American-0316-0316_002-O1-138564-138826   \n",
       "1398571  English-British-0152-0152_002_phone-O2-010248-...   \n",
       "1398572    English-American-0322-0322_005-O1-002448-002623   \n",
       "1398573  English-Filipino-00307-00307_003_phone-O1-0938...   \n",
       "\n",
       "                                                      Text  \\\n",
       "0                  Is my um way of bringing back memories.   \n",
       "1        Antes as pessoas começaram por ir ao teatro, n...   \n",
       "2                     다은이 나오고 그날 유미랑 만나는 거 다은이랑 유미랑 만나는 거.   \n",
       "3        sehr, sehr viel sehen in hmm weniger oder auch...   \n",
       "4        Well, as I mentioned a minute ago, uh I travel...   \n",
       "...                                                    ...   \n",
       "1398569   And it's not just humans who appreciate flowers.   \n",
       "1398570                              And it was so boring.   \n",
       "1398571        Qatar did an amazing job with the stadiums.   \n",
       "1398572                                          I do, um.   \n",
       "1398573  I couldn't agree more. Our upcoming foodie out...   \n",
       "\n",
       "                                                      Path       class  \n",
       "0        /scratch/IITB/ai-at-ieor/23m1508/23m1508_backu...     english  \n",
       "1        /scratch/IITB/ai-at-ieor/23m1508/23m1508_backu...  portuguese  \n",
       "2        /scratch/IITB/ai-at-ieor/23m1508/23m1508_backu...      korean  \n",
       "3        /scratch/IITB/ai-at-ieor/23m1508/23m1508_backu...      german  \n",
       "4        /scratch/IITB/ai-at-ieor/23m1508/23m1508_backu...     english  \n",
       "...                                                    ...         ...  \n",
       "1398569  /scratch/IITB/ai-at-ieor/23m1508/23m1508_backu...     english  \n",
       "1398570  /scratch/IITB/ai-at-ieor/23m1508/23m1508_backu...     english  \n",
       "1398571  /scratch/IITB/ai-at-ieor/23m1508/23m1508_backu...     english  \n",
       "1398572  /scratch/IITB/ai-at-ieor/23m1508/23m1508_backu...     english  \n",
       "1398573  /scratch/IITB/ai-at-ieor/23m1508/23m1508_backu...     english  \n",
       "\n",
       "[1398574 rows x 4 columns]"
      ]
     },
     "execution_count": 4,
     "metadata": {},
     "output_type": "execute_result"
    }
   ],
   "source": [
    "scratch_data"
   ]
  },
  {
   "cell_type": "code",
   "execution_count": null,
   "metadata": {},
   "outputs": [
    {
     "name": "stderr",
     "output_type": "stream",
     "text": [
      "Checking file paths: 100%|██████████| 1398574/1398574 [06:14<00:00, 3734.71it/s]\n"
     ]
    }
   ],
   "source": [
    "from tqdm import tqdm\n",
    "\n",
    "for path in tqdm(scratch_data['Path'], desc=\"Checking file paths\"):\n",
    "    if not os.path.exists(path):\n",
    "        print(f\"File does not exist: {path}\")"
   ]
  },
  {
   "cell_type": "code",
   "execution_count": null,
   "id": "999efc20",
   "metadata": {},
   "outputs": [],
   "source": []
  },
  {
   "cell_type": "code",
   "execution_count": null,
   "id": "180abb8c",
   "metadata": {},
   "outputs": [],
   "source": []
  },
  {
   "cell_type": "code",
   "execution_count": null,
   "id": "8e03099d",
   "metadata": {},
   "outputs": [],
   "source": []
  }
 ],
 "metadata": {
  "kernelspec": {
   "display_name": "shivam_env",
   "language": "python",
   "name": "python3"
  },
  "language_info": {
   "codemirror_mode": {
    "name": "ipython",
    "version": 3
   },
   "file_extension": ".py",
   "mimetype": "text/x-python",
   "name": "python",
   "nbconvert_exporter": "python",
   "pygments_lexer": "ipython3",
   "version": "3.13.2"
  }
 },
 "nbformat": 4,
 "nbformat_minor": 5
}
